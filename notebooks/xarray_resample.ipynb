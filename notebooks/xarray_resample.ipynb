{
 "cells": [
  {
   "cell_type": "code",
   "execution_count": 91,
   "metadata": {
    "collapsed": true
   },
   "outputs": [],
   "source": [
    "import xarray as xr\n",
    "import os\n",
    "import pandas as pd\n",
    "import matplotlib.pyplot as plt\n",
    "%matplotlib inline\n",
    "from datetime import datetime\n",
    "from dateutil.parser import parse\n",
    "import glob\n",
    "import pathlib"
   ]
  },
  {
   "cell_type": "markdown",
   "metadata": {},
   "source": [
    "## Path to root dir containing the netcdfs. "
   ]
  },
  {
   "cell_type": "code",
   "execution_count": 92,
   "metadata": {
    "collapsed": true
   },
   "outputs": [],
   "source": [
    "path = \"/Users/gunnar/src/data/S2GM/processed/\"\n"
   ]
  },
  {
   "cell_type": "code",
   "execution_count": 93,
   "metadata": {
    "collapsed": true
   },
   "outputs": [],
   "source": [
    "def get_date(dat):\n",
    "    t0 = dat.attrs['Temporal extent - Starting date']\n",
    "    IT = dat.attrs['Temporal extent - Ending date']\n",
    "    the_date = datetime.strptime(t0[0:10], '%Y-%m-%d') + (datetime.strptime(IT[0:10], '%Y-%m-%d') - datetime.strptime(t0[0:10], '%Y-%m-%d'))/2\n",
    "    return dat.assign_coords(time=the_date)"
   ]
  },
  {
   "cell_type": "code",
   "execution_count": 94,
   "metadata": {},
   "outputs": [
    {
     "name": "stdout",
     "output_type": "stream",
     "text": [
      " Volume in drive C is Windows\n",
      " Volume Serial Number is 18B3-392A\n",
      "\n",
      " Directory of C:\\Users\\gunnar\\src\\data\\S2GM\\processed\n",
      "\n",
      "08/05/2018  16:20    <DIR>          .\n",
      "08/05/2018  16:20    <DIR>          ..\n",
      "08/05/2018  14:40    <DIR>          .ipynb_checkpoints\n",
      "26/04/2018  11:38    <DIR>          Kapuvar\n",
      "21/04/2018  16:44        91,292,786 S2GM_M60_20170403_20170430_T32UME_STD_v1.0.0_ABD9B737.nc\n",
      "21/04/2018  16:46        70,552,262 S2GM_M60_20170503_20170530_T32UME_STD_v1.0.0_D679C6A2.nc\n",
      "21/04/2018  16:48        92,913,980 S2GM_M60_20170602_20170629_T32UME_STD_v1.0.0_DCA1D479.nc\n",
      "21/04/2018  16:51        85,733,349 S2GM_M60_20170702_20170729_T32UME_STD_v1.0.0_FA9E946A.nc\n",
      "21/04/2018  16:53        63,840,295 S2GM_M60_20170804_20170831_T32UME_STD_v1.0.0_EB619BC5.nc\n",
      "21/04/2018  16:55        92,602,183 S2GM_M60_20170903_20170930_T32UME_STD_v1.0.0_AF86F7D1.nc\n",
      "21/04/2018  16:57        81,982,340 S2GM_M60_20171003_20171030_T32UME_STD_v1.0.0_05004323.nc\n",
      "21/04/2018  17:00        89,846,092 S2GM_M60_20171102_20171129_T32UME_STD_v1.0.0_D32000A3.nc\n",
      "21/04/2018  17:02        88,295,230 S2GM_M60_20171202_20171229_T32UME_STD_v1.0.0_A7679EEE.nc\n",
      "21/04/2018  17:06        90,679,436 S2GM_M60_20180101_20180131_T32UME_STD_v1.0.0_AA919E9F.nc\n",
      "21/04/2018  17:10        98,456,011 S2GM_M60_20180202_20180227_T32UME_STD_v1.0.0_13D6BC0F.nc\n",
      "21/04/2018  17:17        95,706,704 S2GM_M60_20180301_20180324_T32UME_STD_v1.0.0_B3ADC107.nc\n",
      "26/04/2018  11:38    <DIR>          T32UME\n",
      "08/05/2018  16:20            66,757 xarray_resample.ipynb\n",
      "              13 File(s)  1,041,967,425 bytes\n",
      "               5 Dir(s)  52,523,753,472 bytes free\n"
     ]
    }
   ],
   "source": [
    "ls"
   ]
  },
  {
   "cell_type": "markdown",
   "metadata": {},
   "source": [
    "dict of dicts, Name of dists corresponds to attribute name, key to the variable in the datast and value the value of the attribute"
   ]
  },
  {
   "cell_type": "code",
   "execution_count": 95,
   "metadata": {},
   "outputs": [],
   "source": [
    "indat = xr.open_mfdataset('*.nc', concat_dim='time', preprocess=get_date) "
   ]
  },
  {
   "cell_type": "code",
   "execution_count": 96,
   "metadata": {},
   "outputs": [
    {
     "data": {
      "text/plain": [
       "<xarray.Dataset>\n",
       "Dimensions:                       (time: 12, x: 1830, y: 1830)\n",
       "Coordinates:\n",
       "    lat                           (y, x) float64 54.14 54.14 54.14 54.14 ...\n",
       "    lon                           (y, x) float64 7.469 7.47 7.471 7.472 ...\n",
       "  * time                          (time) datetime64[ns] 2017-04-16T12:00:00 ...\n",
       "Dimensions without coordinates: x, y\n",
       "Data variables:\n",
       "    B1                            (time, y, x) float32 dask.array<shape=(12, 1830, 1830), chunksize=(1, 1830, 1830)>\n",
       "    B2                            (time, y, x) float32 dask.array<shape=(12, 1830, 1830), chunksize=(1, 1830, 1830)>\n",
       "    B3                            (time, y, x) float32 dask.array<shape=(12, 1830, 1830), chunksize=(1, 1830, 1830)>\n",
       "    B4                            (time, y, x) float32 dask.array<shape=(12, 1830, 1830), chunksize=(1, 1830, 1830)>\n",
       "    B5                            (time, y, x) float32 dask.array<shape=(12, 1830, 1830), chunksize=(1, 1830, 1830)>\n",
       "    B6                            (time, y, x) float32 dask.array<shape=(12, 1830, 1830), chunksize=(1, 1830, 1830)>\n",
       "    B7                            (time, y, x) float32 dask.array<shape=(12, 1830, 1830), chunksize=(1, 1830, 1830)>\n",
       "    B8                            (time, y, x) float32 dask.array<shape=(12, 1830, 1830), chunksize=(1, 1830, 1830)>\n",
       "    B8A                           (time, y, x) float32 dask.array<shape=(12, 1830, 1830), chunksize=(1, 1830, 1830)>\n",
       "    B11                           (time, y, x) float32 dask.array<shape=(12, 1830, 1830), chunksize=(1, 1830, 1830)>\n",
       "    B12                           (time, y, x) float32 dask.array<shape=(12, 1830, 1830), chunksize=(1, 1830, 1830)>\n",
       "    quality_cloud_confidence      (time, y, x) int8 dask.array<shape=(12, 1830, 1830), chunksize=(1, 1830, 1830)>\n",
       "    quality_scene_classification  (time, y, x) float32 dask.array<shape=(12, 1830, 1830), chunksize=(1, 1830, 1830)>\n",
       "    quality_snow_confidence       (time, y, x) int8 dask.array<shape=(12, 1830, 1830), chunksize=(1, 1830, 1830)>\n",
       "    quality_aot                   (time, y, x) float32 dask.array<shape=(12, 1830, 1830), chunksize=(1, 1830, 1830)>\n",
       "    sun_zenith                    (time, y, x) float32 dask.array<shape=(12, 1830, 1830), chunksize=(1, 1830, 1830)>\n",
       "    sun_azimuth                   (time, y, x) float32 dask.array<shape=(12, 1830, 1830), chunksize=(1, 1830, 1830)>\n",
       "    view_zenith_mean              (time, y, x) float32 dask.array<shape=(12, 1830, 1830), chunksize=(1, 1830, 1830)>\n",
       "    view_azimuth_mean             (time, y, x) float32 dask.array<shape=(12, 1830, 1830), chunksize=(1, 1830, 1830)>\n",
       "    medoid_mos                    (time, y, x) float32 dask.array<shape=(12, 1830, 1830), chunksize=(1, 1830, 1830)>\n",
       "    source_index                  (time, y, x) float32 dask.array<shape=(12, 1830, 1830), chunksize=(1, 1830, 1830)>\n",
       "Attributes:\n",
       "    Conventions:                        CF-1.4\n",
       "    Product type:                       Copernicus Sentinel 2 Global Mosaic\n",
       "    processing baseline:                1.0.0\n",
       "    Processing Steps:                   Sen2Cor,S2GM\n",
       "    Compositing Period:                 2017-04-03 - 2017-04-30\n",
       "    INPUT_POINTER:                      S2A_MSIL2A_20170403T104021_N0204_R008...\n",
       "    Grid Projection:                    PROJCS[\"WGS 84 / UTM zone 32N\", \n",
       "\\n  ...\n",
       "    Spatial Boundaries:                 LINEARRING (7.469155788421631 54.1381...\n",
       "    Percent Cloudy:                     N/A\n",
       "    Percent None Valid Obs:             N/A\n",
       "    Min_JDOY:                           N/A\n",
       "    Max_JDOY:                           N/A\n",
       "    Number_Valid_Obs:                   N/A\n",
       "    Sensor_List:                        S2A\n",
       "    File identifier:                    S2A_MSIL2A_20170403T104021_N0204_R008...\n",
       "    Metadata language:                  en\n",
       "    Point of Contact organisation:      Gunnar Brandt\n",
       "    Point of Contact e-mail:            s2gm@brockmann-consult.de\n",
       "    Responsible party organisation:     Brockmann Consult GmbH\n",
       "    Responsible party e-mail:           s2gm@brockmann-consult.de\n",
       "    Metadata date:                      2018-04-16\n",
       "    Resource title:                     S2A_MSIL2A_20170403T104021_N0204_R008...\n",
       "    Identifier Code:                    N/A\n",
       "    Resource abstract:                  Sentinel-2 Global Mosaic (S2GM) data\n",
       "    Resource locator:                   TBD\n",
       "    Topic category:                     Sentinel-2 Level2 Mosaic\n",
       "    Keyword from INSPIRE Data themes:   N/A\n",
       "    Keyword from repositories:          N/A\n",
       "    Free Keyword:                       N/A\n",
       "    Originating controlled vocabulary:  N/A\n",
       "    Geographic bounding box:            LINEARRING (7.469155788421631 54.1381...\n",
       "    Temporal extent - Starting date:    2017-04-03\n",
       "    Temporal extent - Ending date:      2017-04-30\n",
       "    Date of creation:                   2018-04-16\n",
       "    Date of publication:                2018-04-16\n",
       "    Date of last revision:              2018-04-16\n",
       "    Lineage:                            TBD"
      ]
     },
     "execution_count": 96,
     "metadata": {},
     "output_type": "execute_result"
    }
   ],
   "source": [
    "indat"
   ]
  },
  {
   "cell_type": "code",
   "execution_count": 98,
   "metadata": {},
   "outputs": [
    {
     "data": {
      "text/plain": [
       "[<matplotlib.lines.Line2D at 0x2900583de48>]"
      ]
     },
     "execution_count": 98,
     "metadata": {},
     "output_type": "execute_result"
    },
    {
     "data": {
      "image/png": "[encoded data removed]",
      "text/plain": [
       "<matplotlib.figure.Figure at 0x29004252908>"
      ]
     },
     "metadata": {},
     "output_type": "display_data"
    }
   ],
   "source": [
    "indat.B1.isel(x=100,y=100).plot()"
   ]
  },
  {
   "cell_type": "code",
   "execution_count": 129,
   "metadata": {},
   "outputs": [],
   "source": [
    "indat_loaed = indat.isel(x=slice(90,110),y=slice(90,110)).load()\n",
    "in_resampled = indat_loaed.resample(time='5d',keep_attrs=True).interpolate(kind='nearest')\n",
    "in_resampled2 = indat_loaed.resample(time='5d',keep_attrs=True).interpolate(kind='linear')"
   ]
  },
  {
   "cell_type": "code",
   "execution_count": 130,
   "metadata": {},
   "outputs": [
    {
     "data": {
      "text/plain": [
       "<xarray.DataArray 'B1' (time: 67, y: 20, x: 20)>\n",
       "array([[[      nan,       nan, ...,       nan,       nan],\n",
       "        [      nan,       nan, ...,       nan,  0.017   ],\n",
       "        ..., \n",
       "        [ 0.0179  ,  0.0184  , ...,       nan,       nan],\n",
       "        [ 0.0173  ,  0.0171  , ...,       nan,       nan]],\n",
       "\n",
       "       [[      nan,       nan, ...,       nan,       nan],\n",
       "        [      nan,       nan, ...,       nan,  0.047517],\n",
       "        ..., \n",
       "        [ 0.028817,  0.028767, ...,       nan,       nan],\n",
       "        [ 0.027867,  0.0276  , ...,       nan,       nan]],\n",
       "\n",
       "       ..., \n",
       "       [[ 0.044285,  0.043954, ...,  0.057262,  0.055777],\n",
       "        [ 0.029065,  0.043596, ...,  0.055931,  0.055831],\n",
       "        ..., \n",
       "        [ 0.054938,  0.064946, ...,  0.060212,  0.056962],\n",
       "        [ 0.055681,  0.055885, ...,  0.057454,  0.060058]],\n",
       "\n",
       "       [[ 0.0434  ,  0.0433  , ...,  0.0583  ,  0.0577  ],\n",
       "        [ 0.0247  ,  0.0425  , ...,  0.0582  ,  0.0576  ],\n",
       "        ..., \n",
       "        [ 0.0559  ,  0.0686  , ...,  0.059   ,  0.0585  ],\n",
       "        [ 0.0562  ,  0.056   , ...,  0.0588  ,  0.0585  ]]])\n",
       "Coordinates:\n",
       "    lat      (y, x) float64 54.09 54.09 54.09 54.09 54.09 54.09 54.09 54.09 ...\n",
       "    lon      (y, x) float64 7.553 7.554 7.555 7.556 7.557 7.558 7.559 7.56 ...\n",
       "  * time     (time) datetime64[ns] 2017-04-16T12:00:00 2017-04-21T12:00:00 ...\n",
       "Dimensions without coordinates: y, x"
      ]
     },
     "execution_count": 130,
     "metadata": {},
     "output_type": "execute_result"
    }
   ],
   "source": [
    "in_resampled2.B1"
   ]
  },
  {
   "cell_type": "code",
   "execution_count": 131,
   "metadata": {},
   "outputs": [
    {
     "data": {
      "text/plain": [
       "[<matplotlib.lines.Line2D at 0x29003bd1828>]"
      ]
     },
     "execution_count": 131,
     "metadata": {},
     "output_type": "execute_result"
    },
    {
     "data": {
      "image/png": "[encoded data removed]",
      "text/plain": [
       "<matplotlib.figure.Figure at 0x290059e12b0>"
      ]
     },
     "metadata": {},
     "output_type": "display_data"
    }
   ],
   "source": [
    "indat_loaed.isel(x=10,y=10).B1.plot.line('bo')\n",
    "in_resampled.isel(x=10,y=10).B1.plot.line('r.')\n",
    "in_resampled2.isel(x=10,y=10).B1.plot.line('g-')"
   ]
  },
  {
   "cell_type": "code",
   "execution_count": null,
   "metadata": {
    "collapsed": true
   },
   "outputs": [],
   "source": []
  },
  {
   "cell_type": "code",
   "execution_count": null,
   "metadata": {
    "collapsed": true
   },
   "outputs": [],
   "source": []
  },
  {
   "cell_type": "code",
   "execution_count": null,
   "metadata": {
    "collapsed": true
   },
   "outputs": [],
   "source": []
  },
  {
   "cell_type": "code",
   "execution_count": null,
   "metadata": {
    "collapsed": true
   },
   "outputs": [],
   "source": []
  }
 ],
 "metadata": {
  "kernelspec": {
   "display_name": "Python 3",
   "language": "python",
   "name": "python3"
  },
  "language_info": {
   "codemirror_mode": {
    "name": "ipython",
    "version": 3
   },
   "file_extension": ".py",
   "mimetype": "text/x-python",
   "name": "python",
   "nbconvert_exporter": "python",
   "pygments_lexer": "ipython3",
   "version": "3.6.5"
  }
 },
 "nbformat": 4,
 "nbformat_minor": 2
}
