{
 "cells": [
  {
   "cell_type": "code",
   "execution_count": 2,
   "metadata": {},
   "outputs": [],
   "source": [
    "import xarray as xr\n",
    "import numpy as np\n",
    "import gdal"
   ]
  },
  {
   "cell_type": "code",
   "execution_count": 3,
   "metadata": {},
   "outputs": [],
   "source": [
    "ds = xr.open_dataset(\"C:\\\\Users\\gunnar\\src\\data\\dcs4cop\\VITO\\S2_0001_NS_20170720T105026Z_31UET_v006.nc\")"
   ]
  },
  {
   "cell_type": "code",
   "execution_count": 4,
   "metadata": {},
   "outputs": [
    {
     "data": {
      "text/plain": [
       "<xarray.Dataset>\n",
       "Dimensions:                       (x: 10980, y: 10980)\n",
       "Coordinates:\n",
       "  * x                             (x) float64 5e+05 5e+05 5e+05 5e+05 5e+05 ...\n",
       "  * y                             (y) float64 5.8e+06 5.8e+06 5.8e+06 ...\n",
       "    lon                           (y, x) float64 ...\n",
       "    lat                           (y, x) float64 ...\n",
       "Data variables:\n",
       "    transverse_mercator           int32 ...\n",
       "    Ltoa_1610                     (y, x) float32 ...\n",
       "    Ltoa_2190                     (y, x) float32 ...\n",
       "    rrs_443                       (y, x) float32 ...\n",
       "    rrs_490                       (y, x) float32 ...\n",
       "    rrs_560                       (y, x) float32 ...\n",
       "    rrs_665                       (y, x) float32 ...\n",
       "    rrs_705                       (y, x) float32 ...\n",
       "    rrs_740                       (y, x) float32 ...\n",
       "    rrs_783                       (y, x) float32 ...\n",
       "    rrs_842                       (y, x) float32 ...\n",
       "    rrs_865                       (y, x) float32 ...\n",
       "    TUR_NECHAD2009_GLOBAL_665     (y, x) float32 ...\n",
       "    TUR_NECHAD2009_GLOBAL_740     (y, x) float32 ...\n",
       "    TUR_NECHAD2009_GLOBAL_842     (y, x) float32 ...\n",
       "    SPM_NECHAD2010_GLOBAL_665     (y, x) float32 ...\n",
       "    SPM_NECHAD2010_GLOBAL_740     (y, x) float32 ...\n",
       "    SPM_NECHAD2010_GLOBAL_842     (y, x) float32 ...\n",
       "    SPM_Nechad2010red_GIRplume    (y, x) float32 ...\n",
       "    SPM_Nechad2010nir_GIRestuary  (y, x) float32 ...\n",
       "    SPM_Nechad2010red_BOURGlow    (y, x) float32 ...\n",
       "    SPM_Nechad2010nir_BOURGhigh   (y, x) float32 ...\n",
       "    SPM_Nechad2010red_RHONE       (y, x) float32 ...\n",
       "    SPM_VITOnir_SCHELDT           (y, x) float32 ...\n",
       "    CHL_GILERSON2010_GLOBAL       (y, x) float64 ...\n",
       "    CHL_Bourg                     (y, x) float64 ...\n",
       "    Kd_443                        (y, x) float32 ...\n",
       "    Kd_490                        (y, x) float32 ...\n",
       "    Kd_560                        (y, x) float32 ...\n",
       "    Kd_665                        (y, x) float32 ...\n",
       "    KdPAR                         (y, x) float32 ...\n",
       "    bbp_560                       (y, x) float32 ...\n",
       "    Ze                            (y, x) float32 ...\n",
       "    aot                           (y, x) float32 ...\n",
       "    angstrom_443                  (y, x) float32 ...\n",
       "    angstrom_490                  (y, x) float32 ...\n",
       "    angstrom_560                  (y, x) float32 ...\n",
       "    angstrom_665                  (y, x) float32 ...\n",
       "    rco_red                       (y, x) uint8 ...\n",
       "    rco_green                     (y, x) uint8 ...\n",
       "    rco_blue                      (y, x) uint8 ...\n",
       "    PIXEL_CLASSIFY_FLAGS          (y, x) int32 ...\n",
       "    CLOUD_SURE                    (y, x) uint8 ...\n",
       "    LAND_SURE                     (y, x) uint8 ...\n",
       "Attributes:\n",
       "    title:                     T31UET_20170720T105029\n",
       "    conventions:               CF-1.6\n",
       "    institution:               VITO\n",
       "    product_type:              Highroc Sentinel2 Product\n",
       "    origin:                    Copernicus Sentinel Data\n",
       "    project:                   Highroc\n",
       "    contact:                   highroc@vgt.vito.be\n",
       "    history:                   2017-11-09T05:06:17.299606Z Generated Highroc ...\n",
       "    time_coverage_start:       2017-07-20T10:50:26.463000Z\n",
       "    time_coverage_end:         2017-07-20T10:50:26.463000Z\n",
       "    time_coverage_duration:    0.000000\n",
       "    time_coverage_resolution:  second\n",
       "    geospatial_lat_min:        2.99971272741\n",
       "    geospatial_lat_max:        4.61138436278\n",
       "    geospatial_lon_min:        51.3632417073\n",
       "    geospatial_lon_max:        52.3394848517\n",
       "    geospatial_x_min:          499980.0\n",
       "    geospatial_x_max:          609780.0\n",
       "    geospatial_y_min:          5690220.0\n",
       "    geospatial_y_max:          5800020.0\n",
       "    raster_width:              10980.0\n",
       "    raster_height:             10980.0\n",
       "    raster_resolution:         10.0\n",
       "    raster_resolution_unit:    metre\n",
       "    cloudcover:                31.1378\n",
       "    product_version:           v006"
      ]
     },
     "execution_count": 4,
     "metadata": {},
     "output_type": "execute_result"
    }
   ],
   "source": [
    "ds"
   ]
  },
  {
   "cell_type": "code",
   "execution_count": 5,
   "metadata": {},
   "outputs": [
    {
     "data": {
      "text/plain": [
       "<xarray.DataArray 'x' (x: 10980)>\n",
       "array([ 499985.,  499995.,  500005., ...,  609755.,  609765.,  609775.])\n",
       "Coordinates:\n",
       "  * x        (x) float64 5e+05 5e+05 5e+05 5e+05 5e+05 5e+05 5e+05 5.001e+05 ...\n",
       "Attributes:\n",
       "    units:          m\n",
       "    standard_name:  projection_x_coordinate"
      ]
     },
     "execution_count": 5,
     "metadata": {},
     "output_type": "execute_result"
    }
   ],
   "source": [
    "ds.x"
   ]
  },
  {
   "cell_type": "code",
   "execution_count": 6,
   "metadata": {},
   "outputs": [
    {
     "data": {
      "text/plain": [
       "<xarray.DataArray 'Kd_560' (y: 10980, x: 10980)>\n",
       "[120560400 values with dtype=float32]\n",
       "Coordinates:\n",
       "  * x        (x) float64 5e+05 5e+05 5e+05 5e+05 5e+05 5e+05 5e+05 5.001e+05 ...\n",
       "  * y        (y) float64 5.8e+06 5.8e+06 5.8e+06 5.8e+06 5.8e+06 5.8e+06 ...\n",
       "    lon      (y, x) float64 ...\n",
       "    lat      (y, x) float64 ...\n",
       "Attributes:\n",
       "    standard_name:  diffuse_attenuation_coefficient_of_downwelling_radiative_...\n",
       "    long_name:      Diffuse attenuation coefficient at 560 nm, KD2 algorithm\n",
       "    units:          m-1\n",
       "    valid_min:      50.0\n",
       "    valid_max:      30000.0\n",
       "    grid_mapping:   transverse_mercator"
      ]
     },
     "execution_count": 6,
     "metadata": {},
     "output_type": "execute_result"
    }
   ],
   "source": [
    "ds.Kd_560"
   ]
  },
  {
   "cell_type": "code",
   "execution_count": 7,
   "metadata": {},
   "outputs": [
    {
     "data": {
      "text/plain": [
       "{'zlib': True,\n",
       " 'shuffle': True,\n",
       " 'complevel': 4,\n",
       " 'fletcher32': False,\n",
       " 'contiguous': False,\n",
       " 'chunksizes': (999, 999),\n",
       " 'least_significant_digit': 5,\n",
       " 'source': 'C:\\\\Users\\\\gunnar\\\\src\\\\data\\\\dcs4cop\\\\VITO\\\\S2_0001_NS_20170720T105026Z_31UET_v006.nc',\n",
       " 'original_shape': (10980, 10980),\n",
       " 'dtype': dtype('float32'),\n",
       " '_FillValue': nan,\n",
       " 'coordinates': 'lat lon'}"
      ]
     },
     "execution_count": 7,
     "metadata": {},
     "output_type": "execute_result"
    }
   ],
   "source": [
    "ds.Kd_560.encoding"
   ]
  },
  {
   "cell_type": "code",
   "execution_count": 8,
   "metadata": {},
   "outputs": [
    {
     "data": {
      "text/plain": [
       "<matplotlib.image.AxesImage at 0x26de01f7a90>"
      ]
     },
     "execution_count": 8,
     "metadata": {},
     "output_type": "execute_result"
    }
   ],
   "source": [
    "ds.Kd_560.plot.imshow(vmin=0., vmax=.5)"
   ]
  },
  {
   "cell_type": "code",
   "execution_count": 9,
   "metadata": {},
   "outputs": [],
   "source": [
    "CRS_WKT_EPSG_4326 = \"\"\"\n",
    "GEOGCS[\"WGS 84\",\n",
    "    DATUM[\"WGS_1984\",\n",
    "        SPHEROID[\"WGS 84\",6378137,298.257223563,\n",
    "            AUTHORITY[\"EPSG\",\"7030\"]],\n",
    "        AUTHORITY[\"EPSG\",\"6326\"]],\n",
    "    PRIMEM[\"Greenwich\",0,\n",
    "        AUTHORITY[\"EPSG\",\"8901\"]],\n",
    "    UNIT[\"degree\",0.01745329251994328,\n",
    "        AUTHORITY[\"EPSG\",\"9122\"]],\n",
    "    AUTHORITY[\"EPSG\",\"4326\"]]\n",
    "\"\"\""
   ]
  },
  {
   "cell_type": "code",
   "execution_count": 10,
   "metadata": {},
   "outputs": [
    {
     "data": {
      "text/plain": [
       "<xarray.DataArray 'transverse_mercator' ()>\n",
       "array(-2147483647)\n",
       "Attributes:\n",
       "    grid_mapping_name:                 transverse_mercator\n",
       "    scale_factor_at_central_meridian:  0.9996\n",
       "    longitude_of_central_meridian:     3.0\n",
       "    latitude_of_projection_origin:     0.0\n",
       "    false_easting:                     500000.0\n",
       "    false_northing:                    0.0\n",
       "    semi_major_axis:                   6378137.0\n",
       "    inverse_flattening:                298.257223563"
      ]
     },
     "execution_count": 10,
     "metadata": {},
     "output_type": "execute_result"
    }
   ],
   "source": [
    "ds.transverse_mercator"
   ]
  },
  {
   "cell_type": "code",
   "execution_count": 11,
   "metadata": {},
   "outputs": [],
   "source": [
    "CRS_WKT_S2 = \"\"\"\n",
    "PROJCS[\"Some Sentinel-2 UTM Tile\",\n",
    "    GEOGCS[\"WGS 84\",\n",
    "        DATUM[\"WGS_1984\",\n",
    "            SPHEROID[\"WGS 84\",6378137,298.257223563,\n",
    "                AUTHORITY[\"EPSG\",7030]],\n",
    "            TOWGS84[0,0,0,0,0,0,0],\n",
    "            AUTHORITY[\"EPSG\",6326]],\n",
    "        PRIMEM[\"Greenwich\",0,AUTHORITY[\"EPSG\",8901]],\n",
    "        UNIT[\"DMSH\",0.0174532925199433,AUTHORITY[\"EPSG\",9108]],\n",
    "        AXIS[\"Lat\",NORTH],\n",
    "        AXIS[\"Long\",EAST],\n",
    "        AUTHORITY[\"EPSG\",4326]],\n",
    "    PROJECTION[\"Transverse_Mercator\"],\n",
    "    PARAMETER[\"latitude_of_origin\",0.0],\n",
    "    PARAMETER[\"central_meridian\",3.0],\n",
    "    PARAMETER[\"scale_factor\",0.9996],\n",
    "    PARAMETER[\"false_easting\",500000.0],\n",
    "    PARAMETER[\"false_northing\",0.0]]\n",
    "\"\"\""
   ]
  },
  {
   "cell_type": "code",
   "execution_count": 12,
   "metadata": {},
   "outputs": [
    {
     "data": {
      "text/plain": [
       "array([ 499985.,  499995.,  500005., ...,  609755.,  609765.,  609775.])"
      ]
     },
     "execution_count": 12,
     "metadata": {},
     "output_type": "execute_result"
    }
   ],
   "source": [
    "ds.x.values"
   ]
  },
  {
   "cell_type": "code",
   "execution_count": 13,
   "metadata": {},
   "outputs": [
    {
     "data": {
      "text/plain": [
       "array([ 5800015.,  5800005.,  5799995., ...,  5690245.,  5690235.,\n",
       "        5690225.])"
      ]
     },
     "execution_count": 13,
     "metadata": {},
     "output_type": "execute_result"
    }
   ],
   "source": [
    "ds.y.values"
   ]
  },
  {
   "cell_type": "markdown",
   "metadata": {},
   "source": [
    "See http://www.gdal.org/structGDALWarpOptions.html"
   ]
  },
  {
   "cell_type": "code",
   "execution_count": 14,
   "metadata": {},
   "outputs": [],
   "source": [
    "def reproject_to_wgs84(src_var):\n",
    "    src_width = src_var.shape[-1]\n",
    "    src_height = src_var.shape[-2]\n",
    "    \n",
    "    src_x1 = float(src_var.x[0])\n",
    "    src_x2 = float(src_var.x[-1])\n",
    "    src_y1 = float(src_var.y[0])\n",
    "    src_y2 = float(src_var.y[-1])\n",
    "    src_res = (src_x2 - src_x1) / (src_width - 1)\n",
    "    src_geo_transform = (src_x1, src_res, 0.0,\n",
    "                         src_y2, 0.0, -src_res)\n",
    "    \n",
    "    mem_driver = gdal.GetDriverByName(\"MEM\")\n",
    "    src_ds = mem_driver.Create('src_' + src_var.name, src_width, src_height, 1, gdal.GDT_Float32, [])    \n",
    "    src_ds.SetProjection(CRS_WKT_S2)\n",
    "    src_ds.SetGeoTransform(src_geo_transform)\n",
    "    src_ds.GetRasterBand(1).SetNoDataValue(float('nan'))\n",
    "    src_ds.GetRasterBand(1).WriteArray(src_var.values)\n",
    "\n",
    "    dst_x1_0 = float(src_var.lon[0][0])\n",
    "    dst_x2_0 = float(src_var.lon[0][-1])\n",
    "    dst_y1_0 = float(src_var.lat[0][0])\n",
    "    dst_y2_0 = float(src_var.lat[-1][0])\n",
    "    dst_x1 = min(dst_x1_0, dst_x2_0)\n",
    "    dst_x2 = max(dst_x1_0, dst_x2_0)\n",
    "    dst_y1 = min(dst_y1_0, dst_y2_0)\n",
    "    dst_y2 = max(dst_y1_0, dst_y2_0)\n",
    "    print(dst_x1, dst_x2, dst_y1, dst_y2)\n",
    "    dst_res_x = (dst_x2 - dst_x1) / (src_width - 1)\n",
    "    dst_res_y = (dst_y2 - dst_y1) / (src_height - 1)    \n",
    "    dst_res = min(dst_res_x, dst_res_y)\n",
    "    dst_res *= 10  # !!!!\n",
    "    print(dst_res_x, dst_res_y, dst_y1, dst_res)\n",
    "    dst_width = int((dst_x2 - dst_x1) / dst_res + 0.5)\n",
    "    dst_res = (dst_x2 - dst_x1) / dst_width\n",
    "    dst_height = int((dst_y2 - dst_y1) / dst_res + 0.5)    \n",
    "    print(dst_width, dst_height, dst_res)\n",
    "    dst_geo_transform = (dst_x1 - dst_res / 2, dst_res, 0.0,\n",
    "                         dst_y1 - dst_res / 2, 0.0, -dst_res)\n",
    "    print(dst_geo_transform)\n",
    "    # correct actual\n",
    "    dst_x2 = dst_x1 + dst_res * (dst_width - 1)\n",
    "    dst_y2 = dst_y1 + dst_res * (dst_height - 1)\n",
    "\n",
    "    dst_ds = mem_driver.Create('dst_' + src_var.name, dst_width, dst_height, 1, gdal.GDT_Float32, [])\n",
    "    dst_ds.SetProjection(CRS_WKT_EPSG_4326)\n",
    "    dst_ds.SetGeoTransform(dst_geo_transform)\n",
    "    dst_ds.GetRasterBand(1).SetNoDataValue(float('nan'))\n",
    "\n",
    "    resample_alg = gdal.GRA_NearestNeighbour\n",
    "    warp_mem_limit = 0\n",
    "    error_threshold = 0\n",
    "    options = ['INIT_DEST=NO_DATA']\n",
    "    gdal.ReprojectImage(src_ds,\n",
    "                        dst_ds,\n",
    "                        None, # src_wkt\n",
    "                        None, # dst_wkt\n",
    "                        resample_alg,\n",
    "                        warp_mem_limit,\n",
    "                        error_threshold,\n",
    "                        None,  # callback,\n",
    "                        None,  # callback_data,\n",
    "                        options)\n",
    "    \n",
    "    dst_values = dst_ds.GetRasterBand(1).ReadAsArray()\n",
    "    \n",
    "    dst_var = xr.DataArray(dst_values, \n",
    "                           dims=['lat', 'lon'], \n",
    "                           name=src_var.name, \n",
    "                           attrs=dict(**src_var.attrs), \n",
    "                           coords=dict(lat=np.linspace(dst_y1, dst_y2 + dst_res, dst_height),\n",
    "                                       lon=np.linspace(dst_x1, dst_x2 + dst_res, dst_width)))\n",
    "    \n",
    "    return dst_var"
   ]
  },
  {
   "cell_type": "code",
   "execution_count": 15,
   "metadata": {},
   "outputs": [
    {
     "name": "stdout",
     "output_type": "stream",
     "text": [
      "2.999779775738716 4.6113093718886375 51.363286666572094 52.35042820125818\n",
      "0.00014678291248291478 8.991178929648315e-05 51.363286666572094 0.0008991178929648315\n",
      "1792 1098 0.0008992910692800901\n",
      "(2.999330130204076, 0.0008992910692800901, 0.0, 51.36283702103746, 0.0, -0.0008992910692800901)\n"
     ]
    }
   ],
   "source": [
    "kd_560_proj = reproject_to_wgs84(ds.Kd_560)"
   ]
  },
  {
   "cell_type": "code",
   "execution_count": 16,
   "metadata": {},
   "outputs": [
    {
     "data": {
      "text/plain": [
       "<xarray.DataArray 'Kd_560' (lat: 1098, lon: 1792)>\n",
       "array([[ nan,  nan,  nan, ...,  nan,  nan,  nan],\n",
       "       [ nan,  nan,  nan, ...,  nan,  nan,  nan],\n",
       "       [ nan,  nan,  nan, ...,  nan,  nan,  nan],\n",
       "       ..., \n",
       "       [ nan,  nan,  nan, ...,  nan,  nan,  nan],\n",
       "       [ nan,  nan,  nan, ...,  nan,  nan,  nan],\n",
       "       [ nan,  nan,  nan, ...,  nan,  nan,  nan]], dtype=float32)\n",
       "Coordinates:\n",
       "  * lat      (lat) float64 51.36 51.36 51.37 51.37 51.37 51.37 51.37 51.37 ...\n",
       "  * lon      (lon) float64 3.0 3.001 3.002 3.002 3.003 3.004 3.005 3.006 ...\n",
       "Attributes:\n",
       "    standard_name:  diffuse_attenuation_coefficient_of_downwelling_radiative_...\n",
       "    long_name:      Diffuse attenuation coefficient at 560 nm, KD2 algorithm\n",
       "    units:          m-1\n",
       "    valid_min:      50.0\n",
       "    valid_max:      30000.0\n",
       "    grid_mapping:   transverse_mercator"
      ]
     },
     "execution_count": 16,
     "metadata": {},
     "output_type": "execute_result"
    }
   ],
   "source": [
    "kd_560_proj"
   ]
  },
  {
   "cell_type": "code",
   "execution_count": 17,
   "metadata": {},
   "outputs": [
    {
     "data": {
      "text/plain": [
       "<matplotlib.image.AxesImage at 0x26dd90e29b0>"
      ]
     },
     "execution_count": 17,
     "metadata": {},
     "output_type": "execute_result"
    },
    {
     "data": {
      "image/png": "[encoded data removed]",
      "text/plain": [
       "<Figure size 432x288 with 2 Axes>"
      ]
     },
     "metadata": {},
     "output_type": "display_data"
    }
   ],
   "source": [
    "kd_560_proj.plot.imshow(vmin=0., vmax=.5)"
   ]
  },
  {
   "cell_type": "code",
   "execution_count": null,
   "metadata": {},
   "outputs": [],
   "source": []
  }
 ],
 "metadata": {
  "kernelspec": {
   "display_name": "Python 3",
   "language": "python",
   "name": "python3"
  },
  "language_info": {
   "codemirror_mode": {
    "name": "ipython",
    "version": 3
   },
   "file_extension": ".py",
   "mimetype": "text/x-python",
   "name": "python",
   "nbconvert_exporter": "python",
   "pygments_lexer": "ipython3",
   "version": "3.6.5"
  }
 },
 "nbformat": 4,
 "nbformat_minor": 2
}
