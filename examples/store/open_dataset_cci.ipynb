{
 "cells": [
  {
   "cell_type": "code",
   "execution_count": 1,
   "metadata": {},
   "outputs": [],
   "source": [
    "from xcube_core_store import get_data_store_ids, get_data_store\n",
    "from IPython.display import JSON"
   ]
  },
  {
   "cell_type": "markdown",
   "metadata": {},
   "source": [
    "Which data stores are available?"
   ]
  },
  {
   "cell_type": "code",
   "execution_count": 2,
   "metadata": {},
   "outputs": [
    {
     "data": {
      "application/json": [
       "sentinelhub",
       "cciodp",
       "c3s",
       "geodb",
       "s3",
       "mem",
       "dir"
      ],
      "text/plain": [
       "<IPython.core.display.JSON object>"
      ]
     },
     "execution_count": 2,
     "metadata": {
      "application/json": {
       "expanded": false,
       "root": "root"
      }
     },
     "output_type": "execute_result"
    }
   ],
   "source": [
    "JSON(get_data_store_ids())"
   ]
  },
  {
   "cell_type": "markdown",
   "metadata": {},
   "source": [
    "Get a specific store"
   ]
  },
  {
   "cell_type": "code",
   "execution_count": 3,
   "metadata": {},
   "outputs": [
    {
     "data": {
      "text/plain": [
       "xcube_core_store.CCIDataStore"
      ]
     },
     "execution_count": 3,
     "metadata": {},
     "output_type": "execute_result"
    }
   ],
   "source": [
    "store = get_data_store('cciodp')\n",
    "store"
   ]
  },
  {
   "cell_type": "markdown",
   "metadata": {},
   "source": [
    "Usually we need more information to turn the store class into a data service. Which service parameters are available?"
   ]
  },
  {
   "cell_type": "code",
   "execution_count": 4,
   "metadata": {},
   "outputs": [
    {
     "data": {
      "application/json": {
       "additional_properties": false,
       "properties": {
        "api_url": {
         "default": "http://opensearch-test.ceda.ac.uk/opensearch/request",
         "format": "uri",
         "min_length": 1,
         "type": "string"
        }
       },
       "required": [],
       "type": "object"
      },
      "text/plain": [
       "<IPython.core.display.JSON object>"
      ]
     },
     "execution_count": 4,
     "metadata": {
      "application/json": {
       "expanded": false,
       "root": "root"
      }
     },
     "output_type": "execute_result"
    }
   ],
   "source": [
    "JSON(store.get_service_params_schema())"
   ]
  },
  {
   "cell_type": "markdown",
   "metadata": {},
   "source": [
    "No need to provide any parameters to instantiate the store class:"
   ]
  },
  {
   "cell_type": "code",
   "execution_count": 5,
   "metadata": {},
   "outputs": [],
   "source": [
    "service = store()"
   ]
  },
  {
   "cell_type": "markdown",
   "metadata": {},
   "source": [
    "Which datasets are provided? Note, the list may contain both gridded and vector datasets. It is also very long, so I'd be good if we could filter."
   ]
  },
  {
   "cell_type": "code",
   "execution_count": 12,
   "metadata": {},
   "outputs": [
    {
     "data": {
      "application/json": [
       "esacci2.AEROSOL.5-days.L3C.AEX.GOMOS.Envisat.AERGOM.2-19.r1\n",
       "esacci2.AEROSOL.day.L3C.AER_PRODUCTS.AATSR.Envisat.ADV.2-30.r1\n",
       "esacci2.AEROSOL.day.L3C.AER_PRODUCTS.AATSR.Envisat.ORAC.03-02.r1\n",
       "esacci2.AEROSOL.day.L3C.AER_PRODUCTS.AATSR.Envisat.SU.4-21.r1\n",
       "esacci2.AEROSOL.day.L3C.AER_PRODUCTS.ATSR-2.ERS-2.ADV.2-30.r1\n",
       "esacci2.AEROSOL.day.L3C.AER_PRODUCTS.ATSR-2.ERS-2.ATSR2.04-01.r1\n",
       "esacci2.AEROSOL.day.L3C.AER_PRODUCTS.ATSR-2.ERS-2.ATSR2.04-01_seg.r1\n",
       "esacci2.AEROSOL.day.L3C.AER_PRODUCTS.ATSR-2.ERS-2.ORAC.03-02.r1\n",
       "esacci2.AEROSOL.day.L3C.AOD.MERIS.Envisat.MERIS_ENVISAT.2-2.r1\n",
       "esacci2.AEROSOL.month.L3C.AER_PRODUCTS.AATSR.Envisat.ADV.2-30.r1\n",
       "esacci2.AEROSOL.month.L3C.AER_PRODUCTS.AATSR.Envisat.ORAC.03-02.r1\n",
       "esacci2.AEROSOL.month.L3C.AER_PRODUCTS.AATSR.Envisat.SU.4-21.r1\n",
       "esacci2.AEROSOL.month.L3C.AER_PRODUCTS.ATSR-2.ERS-2.ADV.2-30.r1\n",
       "esacci2.AEROSOL.month.L3C.AER_PRODUCTS.ATSR-2.ERS-2.ATSR2.04-01.r1\n",
       "esacci2.AEROSOL.month.L3C.AER_PRODUCTS.ATSR-2.ERS-2.ATSR2.04-01_seg.r1\n",
       "esacci2.AEROSOL.month.L3C.AER_PRODUCTS.ATSR-2.ERS-2.ORAC.03-02.r1\n",
       "esacci2.AEROSOL.month.L3C.AER_PRODUCTS.ATSR-2.ERS-2.SU.4-21.r1\n",
       "esacci2.AEROSOL.month.L3C.AOD.MERIS.Envisat.MERIS_ENVISAT.2-2.r1\n",
       "esacci2.AEROSOL.satellite-orbit-frequency.L2P.AER_PRODUCTS.AATSR.Envisat.ADV.2-30.r1\n",
       "esacci2.AEROSOL.satellite-orbit-frequency.L2P.AER_PRODUCTS.AATSR.Envisat.ORAC.03-02.r1\n",
       "esacci2.AEROSOL.satellite-orbit-frequency.L2P.AER_PRODUCTS.AATSR.Envisat.SU.4-21.r1\n",
       "esacci2.AEROSOL.satellite-orbit-frequency.L2P.AER_PRODUCTS.AATSR.Envisat.SU.4-21u.r1\n",
       "esacci2.AEROSOL.satellite-orbit-frequency.L2P.AER_PRODUCTS.ATSR-2.ERS-2.ADV.2-30.r1\n",
       "esacci2.AEROSOL.satellite-orbit-frequency.L2P.AER_PRODUCTS.ATSR-2.ERS-2.ATSR2.04-01.r1\n",
       "esacci2.AEROSOL.satellite-orbit-frequency.L2P.AER_PRODUCTS.ATSR-2.ERS-2.ORAC.03-02.r1\n",
       "esacci2.AEROSOL.satellite-orbit-frequency.L2P.AER_PRODUCTS.ATSR-2.ERS-2.SU.4-21.r1\n",
       "esacci2.AEROSOL.satellite-orbit-frequency.L2P.AOD.MERIS.Envisat.MERIS_ENVISAT.2-2.r1\n",
       "esacci2.CLOUD.month.L3C.CLD_PRODUCTS.MODIS.Aqua.MODIS_AQUA.2-0.r1\n",
       "esacci2.CLOUD.month.L3C.CLD_PRODUCTS.MODIS.Terra.MODIS_TERRA.2-0.r1\n",
       "esacci2.CLOUD.month.L3C.CLD_PRODUCTS.multi-sensor.Envisat.MERIS-AATSR.2-0.r1\n",
       "esacci2.CLOUD.month.L3C.CLD_PRODUCTS.multi-sensor.multi-platform.ATSR2-AATSR.2-0.r1\n",
       "esacci2.CLOUD.month.L3C.CLD_PRODUCTS.multi-sensor.multi-platform.AVHRR-AM.2-0.r1\n",
       "esacci2.CLOUD.month.L3C.CLD_PRODUCTS.multi-sensor.multi-platform.AVHRR-PM.2-0.r1\n",
       "esacci2.FIRE.month.L4.BA.MODIS.Terra.MODIS_TERRA.v5-1.r1\n",
       "esacci2.GHG.satellite-orbit-frequency.L2.CH4.SCIAMACHY.Envisat.IMAP.v7-2.r1\n",
       "esacci2.GHG.satellite-orbit-frequency.L2.CH4.SCIAMACHY.Envisat.WFMD.v4-0.r1\n",
       "esacci2.GHG.satellite-orbit-frequency.L2.CH4.TANSO-FTS.GOSAT.EMMA.ch4_v1-2.r1\n",
       "esacci2.GHG.satellite-orbit-frequency.L2.CH4.TANSO-FTS.GOSAT.OCFP.v2-1.r1\n",
       "esacci2.GHG.satellite-orbit-frequency.L2.CH4.TANSO-FTS.GOSAT.OCPR.v7-0.r1\n",
       "esacci2.GHG.satellite-orbit-frequency.L2.CH4.TANSO-FTS.GOSAT.SRFP.v2-3-8.r1\n",
       "esacci2.GHG.satellite-orbit-frequency.L2.CH4.TANSO-FTS.GOSAT.SRPR.v2-3-8.r1\n",
       "esacci2.GHG.satellite-orbit-frequency.L2.CO2.SCIAMACHY.Envisat.BESD.v02-01-02.r1\n",
       "esacci2.GHG.satellite-orbit-frequency.L2.CO2.SCIAMACHY.Envisat.WFMD.v4-0.r1\n",
       "esacci2.GHG.satellite-orbit-frequency.L2.CO2.TANSO-FTS.GOSAT.EMMA.v2-2c.r1\n",
       "esacci2.GHG.satellite-orbit-frequency.L2.CO2.TANSO-FTS.GOSAT.OCFP.v7-0-1.r1\n",
       "esacci2.GHG.satellite-orbit-frequency.L2.CO2.TANSO-FTS.GOSAT.SRFP.v2-3-8.r1\n",
       "esacci2.GHG.satellite-orbit-frequency.L2.CO2.multi-sensor.multi-platform.EMMA.v2-2a.r1\n",
       "esacci2.GHG.satellite-orbit-frequency.L2.CO2.multi-sensor.multi-platform.EMMA.v2-2b.r1\n",
       "esacci2.LC.year.L4.LCCS.multi-sensor.multi-platform.Map.2-0-7.r1\n",
       "esacci2.OC.5-days.L3S.CHLOR_A.multi-sensor.multi-platform.MERGED.3-1.geographic\n",
       "esacci2.OC.5-days.L3S.CHLOR_A.multi-sensor.multi-platform.MERGED.4-0.geographic\n",
       "esacci2.OC.5-days.L3S.IOP.multi-sensor.multi-platform.MERGED.3-1.geographic\n",
       "esacci2.OC.5-days.L3S.IOP.multi-sensor.multi-platform.MERGED.4-0.geographic\n",
       "esacci2.OC.5-days.L3S.K_490.multi-sensor.multi-platform.MERGED.3-1.geographic\n",
       "esacci2.OC.5-days.L3S.K_490.multi-sensor.multi-platform.MERGED.4-0.geographic\n",
       "esacci2.OC.5-days.L3S.OC_PRODUCTS.multi-sensor.multi-platform.MERGED.3-1.geographic\n",
       "esacci2.OC.5-days.L3S.OC_PRODUCTS.multi-sensor.multi-platform.MERGED.4-0.geographic\n",
       "esacci2.OC.5-days.L3S.RRS.multi-sensor.multi-platform.MERGED.3-1.geographic\n",
       "esacci2.OC.5-days.L3S.RRS.multi-sensor.multi-platform.MERGED.4-0.geographic\n",
       "esacci2.OC.8-days.L3S.CHLOR_A.multi-sensor.multi-platform.MERGED.3-1.geographic\n",
       "esacci2.OC.8-days.L3S.CHLOR_A.multi-sensor.multi-platform.MERGED.4-0.geographic\n",
       "esacci2.OC.8-days.L3S.IOP.multi-sensor.multi-platform.MERGED.3-1.geographic\n",
       "esacci2.OC.8-days.L3S.IOP.multi-sensor.multi-platform.MERGED.4-0.geographic\n",
       "esacci2.OC.8-days.L3S.K_490.multi-sensor.multi-platform.MERGED.3-1.geographic\n",
       "esacci2.OC.8-days.L3S.K_490.multi-sensor.multi-platform.MERGED.4-0.geographic\n",
       "esacci2.OC.8-days.L3S.OC_PRODUCTS.multi-sensor.multi-platform.MERGED.3-1.geographic\n",
       "esacci2.OC.8-days.L3S.OC_PRODUCTS.multi-sensor.multi-platform.MERGED.4-0.geographic\n",
       "esacci2.OC.8-days.L3S.RRS.multi-sensor.multi-platform.MERGED.3-1.geographic\n",
       "esacci2.OC.8-days.L3S.RRS.multi-sensor.multi-platform.MERGED.4-0.geographic\n",
       "esacci2.OC.day.L3S.CHLOR_A.multi-sensor.multi-platform.MERGED.3-1.geographic\n",
       "esacci2.OC.day.L3S.CHLOR_A.multi-sensor.multi-platform.MERGED.3-1.sinusoidal\n",
       "esacci2.OC.day.L3S.CHLOR_A.multi-sensor.multi-platform.MERGED.4-0.geographic\n",
       "esacci2.OC.day.L3S.CHLOR_A.multi-sensor.multi-platform.MERGED.4-0.sinusoidal\n",
       "esacci2.OC.day.L3S.IOP.multi-sensor.multi-platform.MERGED.3-1.geographic\n",
       "esacci2.OC.day.L3S.IOP.multi-sensor.multi-platform.MERGED.4-0.geographic\n",
       "esacci2.OC.day.L3S.IOP.multi-sensor.multi-platform.MERGED.4-0.sinusoidal\n",
       "esacci2.OC.day.L3S.K_490.multi-sensor.multi-platform.MERGED.3-1.geographic\n",
       "esacci2.OC.day.L3S.K_490.multi-sensor.multi-platform.MERGED.3-1.sinusoidal\n",
       "esacci2.OC.day.L3S.K_490.multi-sensor.multi-platform.MERGED.4-0.geographic\n",
       "esacci2.OC.day.L3S.K_490.multi-sensor.multi-platform.MERGED.4-0.sinusoidal\n",
       "esacci2.OC.day.L3S.OC_PRODUCTS.multi-sensor.multi-platform.MERGED.3-1.geographic\n",
       "esacci2.OC.day.L3S.OC_PRODUCTS.multi-sensor.multi-platform.MERGED.4-0.geographic\n",
       "esacci2.OC.day.L3S.OC_PRODUCTS.multi-sensor.multi-platform.MERGED.4-0.sinusoidal\n",
       "esacci2.OC.day.L3S.RRS.multi-sensor.multi-platform.MERGED.3-1.geographic\n",
       "esacci2.OC.day.L3S.RRS.multi-sensor.multi-platform.MERGED.3-1.sinusoidal\n",
       "esacci2.OC.day.L3S.RRS.multi-sensor.multi-platform.MERGED.4-0.geographic\n",
       "esacci2.OC.month.L3S.CHLOR_A.multi-sensor.multi-platform.MERGED.3-1.geographic\n",
       "esacci2.OC.month.L3S.CHLOR_A.multi-sensor.multi-platform.MERGED.4-0.geographic\n",
       "esacci2.OC.month.L3S.CHLOR_A.multi-sensor.multi-platform.MERGED.4-0.sinusoidal\n",
       "esacci2.OC.month.L3S.IOP.multi-sensor.multi-platform.MERGED.3-1.geographic\n",
       "esacci2.OC.month.L3S.IOP.multi-sensor.multi-platform.MERGED.4-0.geographic\n",
       "esacci2.OC.month.L3S.IOP.multi-sensor.multi-platform.MERGED.4-0.sinusoidal\n",
       "esacci2.OC.month.L3S.K_490.multi-sensor.multi-platform.MERGED.3-1.geographic\n",
       "esacci2.OC.month.L3S.K_490.multi-sensor.multi-platform.MERGED.4-0.geographic\n",
       "esacci2.OC.month.L3S.K_490.multi-sensor.multi-platform.MERGED.4-0.sinusoidal\n",
       "esacci2.OC.month.L3S.OC_PRODUCTS.multi-sensor.multi-platform.MERGED.3-1.geographic\n",
       "esacci2.OC.month.L3S.OC_PRODUCTS.multi-sensor.multi-platform.MERGED.4-0.geographic\n",
       "esacci2.OC.month.L3S.RRS.multi-sensor.multi-platform.MERGED.3-1.geographic\n",
       "esacci2.OC.month.L3S.RRS.multi-sensor.multi-platform.MERGED.3-1.sinusoidal\n",
       "esacci2.OC.month.L3S.RRS.multi-sensor.multi-platform.MERGED.4-0.geographic\n",
       "esacci2.OZONE.day.L3S.TC.multi-sensor.multi-platform.MERGED.fv0100.r1\n",
       "esacci2.OZONE.month.L3.LP.GOMOS.Envisat.GOMOS_ENVISAT.v0001.r1\n",
       "esacci2.OZONE.month.L3.LP.MIPAS.Envisat.MIPAS_ENVISAT.v0001.r1\n",
       "esacci2.OZONE.month.L3.LP.OSIRIS.ODIN.OSIRIS_ODIN.v0001.r1\n",
       "esacci2.OZONE.month.L3.LP.SCIAMACHY.Envisat.SCIAMACHY_ENVISAT.v0001.r1\n",
       "esacci2.OZONE.month.L3.LP.SMR.ODIN.MZM.v0001.r1\n",
       "esacci2.OZONE.month.L3.LP.SMR.ODIN.SMR_ODIN.v0001.r1\n",
       "esacci2.OZONE.month.L3.NP.multi-sensor.multi-platform.MERGED.fv0002.r1\n",
       "esacci2.SEAICE.day.L4.SICONC.multi-sensor.multi-platform.AMSR_25kmEASE2.2-1.NH\n",
       "esacci2.SEAICE.day.L4.SICONC.multi-sensor.multi-platform.AMSR_50kmEASE2.2-1.NH\n",
       "esacci2.SEASURFACESALINITY.15-days.L4.SSS.multi-sensor.multi-platform.MERGED_OI_Monthly_CENTRED_15Day_25km.01-08.r1\n",
       "esacci2.SEASURFACESALINITY.day.L4.SSS.multi-sensor.multi-platform.MERGED_OI_7DAY_RUNNINGMEAN_DAILY_25km.01-08.r1\n",
       "esacci2.SOILMOISTURE.day.L3S.SSMS.AMI-SCAT.multi-platform.ACTIVE.04-4.r1\n",
       "esacci2.SOILMOISTURE.day.L3S.SSMS.multi-sensor.multi-platform.ACTIVE.04-4.r1\n",
       "esacci2.SOILMOISTURE.day.L3S.SSMS.multi-sensor.multi-platform.ACTIVE.04-5.r1\n",
       "esacci2.SOILMOISTURE.day.L3S.SSMV.multi-sensor.multi-platform.COMBINED.04-4.r1\n",
       "esacci2.SOILMOISTURE.day.L3S.SSMV.multi-sensor.multi-platform.COMBINED.04-5.r1\n",
       "esacci2.SOILMOISTURE.day.L3S.SSMV.multi-sensor.multi-platform.PASSIVE.04-4.r1\n",
       "esacci2.SOILMOISTURE.day.L3S.SSMV.multi-sensor.multi-platform.PASSIVE.04-5.r1\n",
       "esacci2.SST.climatology.L4.SSTdepth.multi-sensor.multi-platform.OSTIA.2-1.r1\n",
       "esacci2.SST.day.L3C.SSTskin.AATSR.Envisat.AATSR.2-1.day\n",
       "esacci2.SST.day.L3C.SSTskin.ATSR-2.ERS-2.ATSR2.2-1.day\n",
       "esacci2.SST.day.L3C.SSTskin.ATSR.ERS-1.ATSR1.2-1.day\n",
       "esacci2.SST.day.L3C.SSTskin.ATSR.ERS-2.ATSR2.2-1.day\n",
       "esacci2.SST.day.L3C.SSTskin.AVHRR-2.NOAA-11.AVHRR11_G.2-1.r1\n",
       "esacci2.SST.day.L3C.SSTskin.AVHRR-2.NOAA-12.AVHRR12_G.2-1.r1\n",
       "esacci2.SST.day.L3C.SSTskin.AVHRR-2.NOAA-14.AVHRR14_G.2-1.r1\n",
       "esacci2.SST.day.L3C.SSTskin.AVHRR-2.NOAA-7.AVHRR07_G.2-1.r1\n",
       "esacci2.SST.day.L3C.SSTskin.AVHRR-2.NOAA-9.AVHRR09_G.2-1.r1\n",
       "esacci2.SST.day.L3C.SSTskin.AVHRR-3.Metop-A.AVHRRMTA_G.2-1.r1\n",
       "esacci2.SST.day.L3C.SSTskin.AVHRR-3.NOAA-15.AVHRR15_G.2-1.r1\n",
       "esacci2.SST.day.L3C.SSTskin.AVHRR-3.NOAA-16.AVHRR16_G.2-1.r1\n",
       "esacci2.SST.day.L3C.SSTskin.AVHRR-3.NOAA-17.AVHRR17_G.2-1.r1\n",
       "esacci2.SST.day.L3C.SSTskin.AVHRR-3.NOAA-18.AVHRR18_G.2-1.r1\n",
       "esacci2.SST.day.L3C.SSTskin.AVHRR-3.NOAA-19.AVHRR19_G.2-1.r1\n",
       "esacci2.SST.day.L4.SSTdepth.multi-sensor.multi-platform.OSTIA.1-1.r1\n",
       "esacci2.SST.day.L4.SSTdepth.multi-sensor.multi-platform.OSTIA.2-1.anomaly\n",
       "esacci2.SST.satellite-orbit-frequency.L2P.SSTskin.AATSR.Envisat.AATSR.2-1.r1\n",
       "esacci2.SST.satellite-orbit-frequency.L2P.SSTskin.ATSR-2.ERS-2.ATSR2.2-1.r1\n",
       "esacci2.SST.satellite-orbit-frequency.L2P.SSTskin.ATSR.ERS-1.ATSR1.2-1.r1\n",
       "esacci2.SST.satellite-orbit-frequency.L2P.SSTskin.ATSR.ERS-2.ATSR2.2-1.r1\n",
       "esacci2.SST.satellite-orbit-frequency.L2P.SSTskin.AVHRR-2.NOAA-11.AVHRR11_G.2-1.r1\n",
       "esacci2.SST.satellite-orbit-frequency.L2P.SSTskin.AVHRR-2.NOAA-12.AVHRR12_G.2-1.r1\n",
       "esacci2.SST.satellite-orbit-frequency.L2P.SSTskin.AVHRR-2.NOAA-14.AVHRR14_G.2-1.r1\n",
       "esacci2.SST.satellite-orbit-frequency.L2P.SSTskin.AVHRR-2.NOAA-7.AVHRR07_G.2-1.r1\n",
       "esacci2.SST.satellite-orbit-frequency.L2P.SSTskin.AVHRR-2.NOAA-9.AVHRR09_G.2-1.r1\n",
       "esacci2.SST.satellite-orbit-frequency.L2P.SSTskin.AVHRR-3.Metop-A.AVHRRMTA_G.2-1.r1\n",
       "esacci2.SST.satellite-orbit-frequency.L2P.SSTskin.AVHRR-3.NOAA-15.AVHRR15_G.2-1.r1\n",
       "esacci2.SST.satellite-orbit-frequency.L2P.SSTskin.AVHRR-3.NOAA-16.AVHRR16_G.2-1.r1\n",
       "esacci2.SST.satellite-orbit-frequency.L2P.SSTskin.AVHRR-3.NOAA-17.AVHRR17_G.2-1.r1\n",
       "esacci2.SST.satellite-orbit-frequency.L2P.SSTskin.AVHRR-3.NOAA-18.AVHRR18_G.2-1.r1\n",
       "esacci2.SST.satellite-orbit-frequency.L2P.SSTskin.AVHRR-3.NOAA-19.AVHRR19_G.2-1.r1\n",
       "esacci2.SST.satellite-orbit-frequency.L3U.SSTskin.AATSR.Envisat.AATSR.2-1.r1\n",
       "esacci2.SST.satellite-orbit-frequency.L3U.SSTskin.ATSR-2.ERS-2.ATSR2.2-1.r1\n",
       "esacci2.SST.satellite-orbit-frequency.L3U.SSTskin.ATSR.ERS-1.ATSR1.2-1.r1\n",
       "esacci2.SST.satellite-orbit-frequency.L3U.SSTskin.ATSR.ERS-2.ATSR2.2-1.r1\n",
       "esacci2.SST.satellite-orbit-frequency.L3U.SSTskin.AVHRR-2.NOAA-11.AVHRR11_G.2-1.r1\n",
       "esacci2.SST.satellite-orbit-frequency.L3U.SSTskin.AVHRR-2.NOAA-12.AVHRR12_G.2-1.r1\n",
       "esacci2.SST.satellite-orbit-frequency.L3U.SSTskin.AVHRR-2.NOAA-14.AVHRR14_G.2-1.r1\n",
       "esacci2.SST.satellite-orbit-frequency.L3U.SSTskin.AVHRR-2.NOAA-7.AVHRR07_G.2-1.r1\n",
       "esacci2.SST.satellite-orbit-frequency.L3U.SSTskin.AVHRR-2.NOAA-9.AVHRR09_G.2-1.r1\n",
       "esacci2.SST.satellite-orbit-frequency.L3U.SSTskin.AVHRR-3.Metop-A.AVHRRMTA_G.2-1.r1\n",
       "esacci2.SST.satellite-orbit-frequency.L3U.SSTskin.AVHRR-3.NOAA-15.AVHRR15_G.2-1.r1\n",
       "esacci2.SST.satellite-orbit-frequency.L3U.SSTskin.AVHRR-3.NOAA-16.AVHRR16_G.2-1.r1\n",
       "esacci2.SST.satellite-orbit-frequency.L3U.SSTskin.AVHRR-3.NOAA-17.AVHRR17_G.2-1.r1\n",
       "esacci2.SST.satellite-orbit-frequency.L3U.SSTskin.AVHRR-3.NOAA-18.AVHRR18_G.2-1.r1\n",
       "esacci2.SST.satellite-orbit-frequency.L3U.SSTskin.AVHRR-3.NOAA-19.AVHRR19_G.2-1.r1\n"
      ],
      "text/plain": [
       "<IPython.core.display.JSON object>"
      ]
     },
     "execution_count": 12,
     "metadata": {
      "application/json": {
       "expanded": false,
       "root": "root"
      }
     },
     "output_type": "execute_result"
    }
   ],
   "source": [
    "JSON(service.get_dataset_ids())"
   ]
  },
  {
   "cell_type": "markdown",
   "metadata": {},
   "source": [
    "Get more info about a dedicated dataset. This include a description of the possible open formats:"
   ]
  },
  {
   "cell_type": "code",
   "execution_count": 7,
   "metadata": {},
   "outputs": [
    {
     "data": {
      "application/json": {
       "bbox": [
        -180,
        -90,
        180,
        90
       ],
       "description": "ESA Sea Surface Temperature Climate Change Initiative (ESA SST CCI): Analysis long term product version 1.1",
       "id": "esacci2.SST.day.L4.SSTdepth.multi-sensor.multi-platform.OSTIA.1-1.r1",
       "open_formats": [
        {
         "name": "zarr:cciodp",
         "params_schema": {
          "additional_properties": false,
          "properties": {
           "bbox": {
            "default": [
             -180,
             -90,
             180,
             90
            ],
            "items": [
             {
              "type": "number"
             },
             {
              "type": "number"
             },
             {
              "type": "number"
             },
             {
              "type": "number"
             }
            ],
            "type": "array"
           },
           "collection_id": {
            "default": null,
            "min_length": 10,
            "type": [
             "null",
             "string"
            ]
           },
           "crs": {
            "default": "WGS84",
            "enum": [
             "WGS84"
            ],
            "type": "string"
           },
           "spatial_res": {
            "default": 0.05,
            "exclusive_minimum": 0,
            "type": "number"
           },
           "time_period": {
            "default": "1D",
            "exclusive_minimum": 0,
            "type": [
             "null",
             "string"
            ]
           },
           "time_range": {
            "default": [
             "1991-08-31T23:00:00",
             "2010-12-31T00:00:00"
            ],
            "items": [
             {
              "format": "date-time",
              "type": "str"
             },
             {
              "format": "date-time",
              "type": "str"
             }
            ],
            "type": "array"
           },
           "variable_names": {
            "default": null,
            "items": {
             "enum": [
              "analysed_sst",
              "analysis_error",
              "sea_ice_fraction_error",
              "sea_ice_fraction",
              "mask"
             ],
             "type": "string"
            },
            "min_items": 1,
            "type": [
             "array",
             "null"
            ],
            "unique_items": true
           }
          },
          "required": [],
          "type": "object"
         }
        }
       ],
       "spatial_res": 0.05,
       "time_period": "1D",
       "time_range": [
        "1991-08-31T23:00:00",
        "2010-12-31T00:00:00"
       ],
       "variable_names": [
        "analysed_sst",
        "analysis_error",
        "sea_ice_fraction_error",
        "sea_ice_fraction",
        "mask"
       ]
      },
      "text/plain": [
       "<IPython.core.display.JSON object>"
      ]
     },
     "execution_count": 7,
     "metadata": {
      "application/json": {
       "expanded": false,
       "root": "root"
      }
     },
     "output_type": "execute_result"
    }
   ],
   "source": [
    "JSON(service.get_dataset_descriptor('esacci2.SST.day.L4.SSTdepth.multi-sensor.multi-platform.OSTIA.1-1.r1'))"
   ]
  },
  {
   "cell_type": "markdown",
   "metadata": {},
   "source": [
    "Which formats are available for opening datasets? The first one is the default format."
   ]
  },
  {
   "cell_type": "code",
   "execution_count": 8,
   "metadata": {},
   "outputs": [
    {
     "data": {
      "application/json": [
       "zarr:cciodp"
      ],
      "text/plain": [
       "<IPython.core.display.JSON object>"
      ]
     },
     "execution_count": 8,
     "metadata": {
      "application/json": {
       "expanded": false,
       "root": "root"
      }
     },
     "output_type": "execute_result"
    }
   ],
   "source": [
    "JSON(service.get_open_dataset_format_names('esacci2.SST.day.L4.SSTdepth.multi-sensor.multi-platform.OSTIA.1-1.r1'))"
   ]
  },
  {
   "cell_type": "markdown",
   "metadata": {},
   "source": [
    "Which parameters must I pass or are available to open the dataset?"
   ]
  },
  {
   "cell_type": "code",
   "execution_count": 9,
   "metadata": {},
   "outputs": [
    {
     "data": {
      "application/json": {
       "additional_properties": false,
       "properties": {
        "bbox": {
         "default": [
          -180,
          -90,
          180,
          90
         ],
         "items": [
          {
           "type": "number"
          },
          {
           "type": "number"
          },
          {
           "type": "number"
          },
          {
           "type": "number"
          }
         ],
         "type": "array"
        },
        "collection_id": {
         "default": null,
         "min_length": 10,
         "type": [
          "null",
          "string"
         ]
        },
        "crs": {
         "default": "WGS84",
         "enum": [
          "WGS84"
         ],
         "type": "string"
        },
        "spatial_res": {
         "default": 0.05,
         "exclusive_minimum": 0,
         "type": "number"
        },
        "time_period": {
         "default": "1D",
         "exclusive_minimum": 0,
         "type": [
          "null",
          "string"
         ]
        },
        "time_range": {
         "default": [
          "1991-08-31T23:00:00",
          "2010-12-31T00:00:00"
         ],
         "items": [
          {
           "format": "date-time",
           "type": "str"
          },
          {
           "format": "date-time",
           "type": "str"
          }
         ],
         "type": "array"
        },
        "variable_names": {
         "default": null,
         "items": {
          "enum": [
           "analysed_sst",
           "analysis_error",
           "sea_ice_fraction_error",
           "sea_ice_fraction",
           "mask"
          ],
          "type": "string"
         },
         "min_items": 1,
         "type": [
          "array",
          "null"
         ],
         "unique_items": true
        }
       },
       "required": [],
       "type": "object"
      },
      "text/plain": [
       "<IPython.core.display.JSON object>"
      ]
     },
     "execution_count": 9,
     "metadata": {
      "application/json": {
       "expanded": false,
       "root": "root"
      }
     },
     "output_type": "execute_result"
    }
   ],
   "source": [
    "JSON(service.get_open_dataset_params_schema('esacci2.SST.day.L4.SSTdepth.multi-sensor.multi-platform.OSTIA.1-1.r1'))"
   ]
  },
  {
   "cell_type": "markdown",
   "metadata": {},
   "source": [
    "Obviously, there are no mandatory parameters, so we can open without any:"
   ]
  },
  {
   "cell_type": "code",
   "execution_count": 10,
   "metadata": {},
   "outputs": [
    {
     "data": {
      "text/html": [
       "<div><svg style=\"position: absolute; width: 0; height: 0; overflow: hidden\">\n",
       "<defs>\n",
       "<symbol id=\"icon-database\" viewBox=\"0 0 32 32\">\n",
       "<title>Show/Hide data repr</title>\n",
       "<path d=\"M16 0c-8.837 0-16 2.239-16 5v4c0 2.761 7.163 5 16 5s16-2.239 16-5v-4c0-2.761-7.163-5-16-5z\"></path>\n",
       "<path d=\"M16 17c-8.837 0-16-2.239-16-5v6c0 2.761 7.163 5 16 5s16-2.239 16-5v-6c0 2.761-7.163 5-16 5z\"></path>\n",
       "<path d=\"M16 26c-8.837 0-16-2.239-16-5v6c0 2.761 7.163 5 16 5s16-2.239 16-5v-6c0 2.761-7.163 5-16 5z\"></path>\n",
       "</symbol>\n",
       "<symbol id=\"icon-file-text2\" viewBox=\"0 0 32 32\">\n",
       "<title>Show/Hide attributes</title>\n",
       "<path d=\"M28.681 7.159c-0.694-0.947-1.662-2.053-2.724-3.116s-2.169-2.030-3.116-2.724c-1.612-1.182-2.393-1.319-2.841-1.319h-15.5c-1.378 0-2.5 1.121-2.5 2.5v27c0 1.378 1.122 2.5 2.5 2.5h23c1.378 0 2.5-1.122 2.5-2.5v-19.5c0-0.448-0.137-1.23-1.319-2.841zM24.543 5.457c0.959 0.959 1.712 1.825 2.268 2.543h-4.811v-4.811c0.718 0.556 1.584 1.309 2.543 2.268zM28 29.5c0 0.271-0.229 0.5-0.5 0.5h-23c-0.271 0-0.5-0.229-0.5-0.5v-27c0-0.271 0.229-0.5 0.5-0.5 0 0 15.499-0 15.5 0v7c0 0.552 0.448 1 1 1h7v19.5z\"></path>\n",
       "<path d=\"M23 26h-14c-0.552 0-1-0.448-1-1s0.448-1 1-1h14c0.552 0 1 0.448 1 1s-0.448 1-1 1z\"></path>\n",
       "<path d=\"M23 22h-14c-0.552 0-1-0.448-1-1s0.448-1 1-1h14c0.552 0 1 0.448 1 1s-0.448 1-1 1z\"></path>\n",
       "<path d=\"M23 18h-14c-0.552 0-1-0.448-1-1s0.448-1 1-1h14c0.552 0 1 0.448 1 1s-0.448 1-1 1z\"></path>\n",
       "</symbol>\n",
       "</defs>\n",
       "</svg>\n",
       "<style>/* CSS stylesheet for displaying xarray objects in jupyterlab.\n",
       " *\n",
       " */\n",
       "\n",
       ":root {\n",
       "  --xr-font-color0: var(--jp-content-font-color0, rgba(0, 0, 0, 1));\n",
       "  --xr-font-color2: var(--jp-content-font-color2, rgba(0, 0, 0, 0.54));\n",
       "  --xr-font-color3: var(--jp-content-font-color3, rgba(0, 0, 0, 0.38));\n",
       "  --xr-border-color: var(--jp-border-color2, #e0e0e0);\n",
       "  --xr-disabled-color: var(--jp-layout-color3, #bdbdbd);\n",
       "  --xr-background-color: var(--jp-layout-color0, white);\n",
       "  --xr-background-color-row-even: var(--jp-layout-color1, white);\n",
       "  --xr-background-color-row-odd: var(--jp-layout-color2, #eeeeee);\n",
       "}\n",
       "\n",
       ".xr-wrap {\n",
       "  min-width: 300px;\n",
       "  max-width: 700px;\n",
       "}\n",
       "\n",
       ".xr-header {\n",
       "  padding-top: 6px;\n",
       "  padding-bottom: 6px;\n",
       "  margin-bottom: 4px;\n",
       "  border-bottom: solid 1px var(--xr-border-color);\n",
       "}\n",
       "\n",
       ".xr-header > div,\n",
       ".xr-header > ul {\n",
       "  display: inline;\n",
       "  margin-top: 0;\n",
       "  margin-bottom: 0;\n",
       "}\n",
       "\n",
       ".xr-obj-type,\n",
       ".xr-array-name {\n",
       "  margin-left: 2px;\n",
       "  margin-right: 10px;\n",
       "}\n",
       "\n",
       ".xr-obj-type {\n",
       "  color: var(--xr-font-color2);\n",
       "}\n",
       "\n",
       ".xr-sections {\n",
       "  padding-left: 0 !important;\n",
       "  display: grid;\n",
       "  grid-template-columns: 150px auto auto 1fr 20px 20px;\n",
       "}\n",
       "\n",
       ".xr-section-item {\n",
       "  display: contents;\n",
       "}\n",
       "\n",
       ".xr-section-item input {\n",
       "  display: none;\n",
       "}\n",
       "\n",
       ".xr-section-item input + label {\n",
       "  color: var(--xr-disabled-color);\n",
       "}\n",
       "\n",
       ".xr-section-item input:enabled + label {\n",
       "  cursor: pointer;\n",
       "  color: var(--xr-font-color2);\n",
       "}\n",
       "\n",
       ".xr-section-item input:enabled + label:hover {\n",
       "  color: var(--xr-font-color0);\n",
       "}\n",
       "\n",
       ".xr-section-summary {\n",
       "  grid-column: 1;\n",
       "  color: var(--xr-font-color2);\n",
       "  font-weight: 500;\n",
       "}\n",
       "\n",
       ".xr-section-summary > span {\n",
       "  display: inline-block;\n",
       "  padding-left: 0.5em;\n",
       "}\n",
       "\n",
       ".xr-section-summary-in:disabled + label {\n",
       "  color: var(--xr-font-color2);\n",
       "}\n",
       "\n",
       ".xr-section-summary-in + label:before {\n",
       "  display: inline-block;\n",
       "  content: '►';\n",
       "  font-size: 11px;\n",
       "  width: 15px;\n",
       "  text-align: center;\n",
       "}\n",
       "\n",
       ".xr-section-summary-in:disabled + label:before {\n",
       "  color: var(--xr-disabled-color);\n",
       "}\n",
       "\n",
       ".xr-section-summary-in:checked + label:before {\n",
       "  content: '▼';\n",
       "}\n",
       "\n",
       ".xr-section-summary-in:checked + label > span {\n",
       "  display: none;\n",
       "}\n",
       "\n",
       ".xr-section-summary,\n",
       ".xr-section-inline-details {\n",
       "  padding-top: 4px;\n",
       "  padding-bottom: 4px;\n",
       "}\n",
       "\n",
       ".xr-section-inline-details {\n",
       "  grid-column: 2 / -1;\n",
       "}\n",
       "\n",
       ".xr-section-details {\n",
       "  display: none;\n",
       "  grid-column: 1 / -1;\n",
       "  margin-bottom: 5px;\n",
       "}\n",
       "\n",
       ".xr-section-summary-in:checked ~ .xr-section-details {\n",
       "  display: contents;\n",
       "}\n",
       "\n",
       ".xr-array-wrap {\n",
       "  grid-column: 1 / -1;\n",
       "  display: grid;\n",
       "  grid-template-columns: 20px auto;\n",
       "}\n",
       "\n",
       ".xr-array-wrap > label {\n",
       "  grid-column: 1;\n",
       "  vertical-align: top;\n",
       "}\n",
       "\n",
       ".xr-preview {\n",
       "  color: var(--xr-font-color3);\n",
       "}\n",
       "\n",
       ".xr-array-preview,\n",
       ".xr-array-data {\n",
       "  padding: 0 5px !important;\n",
       "  grid-column: 2;\n",
       "}\n",
       "\n",
       ".xr-array-data,\n",
       ".xr-array-in:checked ~ .xr-array-preview {\n",
       "  display: none;\n",
       "}\n",
       "\n",
       ".xr-array-in:checked ~ .xr-array-data,\n",
       ".xr-array-preview {\n",
       "  display: inline-block;\n",
       "}\n",
       "\n",
       ".xr-dim-list {\n",
       "  display: inline-block !important;\n",
       "  list-style: none;\n",
       "  padding: 0 !important;\n",
       "  margin: 0;\n",
       "}\n",
       "\n",
       ".xr-dim-list li {\n",
       "  display: inline-block;\n",
       "  padding: 0;\n",
       "  margin: 0;\n",
       "}\n",
       "\n",
       ".xr-dim-list:before {\n",
       "  content: '(';\n",
       "}\n",
       "\n",
       ".xr-dim-list:after {\n",
       "  content: ')';\n",
       "}\n",
       "\n",
       ".xr-dim-list li:not(:last-child):after {\n",
       "  content: ',';\n",
       "  padding-right: 5px;\n",
       "}\n",
       "\n",
       ".xr-has-index {\n",
       "  font-weight: bold;\n",
       "}\n",
       "\n",
       ".xr-var-list,\n",
       ".xr-var-item {\n",
       "  display: contents;\n",
       "}\n",
       "\n",
       ".xr-var-item > div,\n",
       ".xr-var-item label,\n",
       ".xr-var-item > .xr-var-name span {\n",
       "  background-color: var(--xr-background-color-row-even);\n",
       "  margin-bottom: 0;\n",
       "}\n",
       "\n",
       ".xr-var-item > .xr-var-name:hover span {\n",
       "  padding-right: 5px;\n",
       "}\n",
       "\n",
       ".xr-var-list > li:nth-child(odd) > div,\n",
       ".xr-var-list > li:nth-child(odd) > label,\n",
       ".xr-var-list > li:nth-child(odd) > .xr-var-name span {\n",
       "  background-color: var(--xr-background-color-row-odd);\n",
       "}\n",
       "\n",
       ".xr-var-name {\n",
       "  grid-column: 1;\n",
       "}\n",
       "\n",
       ".xr-var-dims {\n",
       "  grid-column: 2;\n",
       "}\n",
       "\n",
       ".xr-var-dtype {\n",
       "  grid-column: 3;\n",
       "  text-align: right;\n",
       "  color: var(--xr-font-color2);\n",
       "}\n",
       "\n",
       ".xr-var-preview {\n",
       "  grid-column: 4;\n",
       "}\n",
       "\n",
       ".xr-var-name,\n",
       ".xr-var-dims,\n",
       ".xr-var-dtype,\n",
       ".xr-preview,\n",
       ".xr-attrs dt {\n",
       "  white-space: nowrap;\n",
       "  overflow: hidden;\n",
       "  text-overflow: ellipsis;\n",
       "  padding-right: 10px;\n",
       "}\n",
       "\n",
       ".xr-var-name:hover,\n",
       ".xr-var-dims:hover,\n",
       ".xr-var-dtype:hover,\n",
       ".xr-attrs dt:hover {\n",
       "  overflow: visible;\n",
       "  width: auto;\n",
       "  z-index: 1;\n",
       "}\n",
       "\n",
       ".xr-var-attrs,\n",
       ".xr-var-data {\n",
       "  display: none;\n",
       "  background-color: var(--xr-background-color) !important;\n",
       "  padding-bottom: 5px !important;\n",
       "}\n",
       "\n",
       ".xr-var-attrs-in:checked ~ .xr-var-attrs,\n",
       ".xr-var-data-in:checked ~ .xr-var-data {\n",
       "  display: block;\n",
       "}\n",
       "\n",
       ".xr-var-data > table {\n",
       "  float: right;\n",
       "}\n",
       "\n",
       ".xr-var-name span,\n",
       ".xr-var-data,\n",
       ".xr-attrs {\n",
       "  padding-left: 25px !important;\n",
       "}\n",
       "\n",
       ".xr-attrs,\n",
       ".xr-var-attrs,\n",
       ".xr-var-data {\n",
       "  grid-column: 1 / -1;\n",
       "}\n",
       "\n",
       "dl.xr-attrs {\n",
       "  padding: 0;\n",
       "  margin: 0;\n",
       "  display: grid;\n",
       "  grid-template-columns: 125px auto;\n",
       "}\n",
       "\n",
       ".xr-attrs dt, dd {\n",
       "  padding: 0;\n",
       "  margin: 0;\n",
       "  float: left;\n",
       "  padding-right: 10px;\n",
       "  width: auto;\n",
       "}\n",
       "\n",
       ".xr-attrs dt {\n",
       "  font-weight: normal;\n",
       "  grid-column: 1;\n",
       "}\n",
       "\n",
       ".xr-attrs dt:hover span {\n",
       "  display: inline-block;\n",
       "  background: var(--xr-background-color);\n",
       "  padding-right: 10px;\n",
       "}\n",
       "\n",
       ".xr-attrs dd {\n",
       "  grid-column: 2;\n",
       "  white-space: pre-wrap;\n",
       "  word-break: break-all;\n",
       "}\n",
       "\n",
       ".xr-icon-database,\n",
       ".xr-icon-file-text2 {\n",
       "  display: inline-block;\n",
       "  vertical-align: middle;\n",
       "  width: 1em;\n",
       "  height: 1.5em !important;\n",
       "  stroke-width: 0;\n",
       "  stroke: currentColor;\n",
       "  fill: currentColor;\n",
       "}\n",
       "</style><div class='xr-wrap'><div class='xr-header'><div class='xr-obj-type'>xarray.Dataset</div></div><ul class='xr-sections'><li class='xr-section-item'><input id='section-dddbd044-8b55-4cc6-b938-c1ff254f751d' class='xr-section-summary-in' type='checkbox' disabled ><label for='section-dddbd044-8b55-4cc6-b938-c1ff254f751d' class='xr-section-summary'  title='Expand/collapse section'>Dimensions:</label><div class='xr-section-inline-details'><ul class='xr-dim-list'><li><span class='xr-has-index'>lat</span>: 25</li><li><span class='xr-has-index'>lon</span>: 53</li><li><span class='xr-has-index'>time</span>: 2920</li></ul></div><div class='xr-section-details'></div></li><li class='xr-section-item'><input id='section-91d78a4e-8217-4da5-8c47-e40307b9cf2c' class='xr-section-summary-in' type='checkbox'  checked><label for='section-91d78a4e-8217-4da5-8c47-e40307b9cf2c' class='xr-section-summary' >Coordinates: <span>(3)</span></label><div class='xr-section-inline-details'></div><div class='xr-section-details'><ul class='xr-var-list'><li class='xr-var-item'><div class='xr-var-name'><span class='xr-has-index'>lat</span></div><div class='xr-var-dims'>(lat)</div><div class='xr-var-dtype'>float32</div><div class='xr-var-preview xr-preview'>75.0 72.5 70.0 ... 20.0 17.5 15.0</div><input id='attrs-a0666406-4745-499a-8881-9778586610c6' class='xr-var-attrs-in' type='checkbox' ><label for='attrs-a0666406-4745-499a-8881-9778586610c6' title='Show/Hide attributes'><svg class='icon xr-icon-file-text2'><use xlink:href='#icon-file-text2'></use></svg></label><input id='data-af8d5e46-7402-404c-94be-1e00cebf5a2b' class='xr-var-data-in' type='checkbox'><label for='data-af8d5e46-7402-404c-94be-1e00cebf5a2b' title='Show/Hide data repr'><svg class='icon xr-icon-database'><use xlink:href='#icon-database'></use></svg></label><div class='xr-var-attrs'><dl class='xr-attrs'><dt><span>standard_name :</span></dt><dd>latitude</dd><dt><span>long_name :</span></dt><dd>Latitude</dd><dt><span>units :</span></dt><dd>degrees_north</dd><dt><span>axis :</span></dt><dd>Y</dd></dl></div><pre class='xr-var-data'>array([75. , 72.5, 70. , 67.5, 65. , 62.5, 60. , 57.5, 55. , 52.5, 50. , 47.5,\n",
       "       45. , 42.5, 40. , 37.5, 35. , 32.5, 30. , 27.5, 25. , 22.5, 20. , 17.5,\n",
       "       15. ], dtype=float32)</pre></li><li class='xr-var-item'><div class='xr-var-name'><span class='xr-has-index'>lon</span></div><div class='xr-var-dims'>(lon)</div><div class='xr-var-dtype'>float32</div><div class='xr-var-preview xr-preview'>200.0 202.5 205.0 ... 327.5 330.0</div><input id='attrs-9e87cec2-c608-4024-9cff-34fe7acec3e7' class='xr-var-attrs-in' type='checkbox' ><label for='attrs-9e87cec2-c608-4024-9cff-34fe7acec3e7' title='Show/Hide attributes'><svg class='icon xr-icon-file-text2'><use xlink:href='#icon-file-text2'></use></svg></label><input id='data-f579cbe4-3820-4288-be9d-89e9d572aa4e' class='xr-var-data-in' type='checkbox'><label for='data-f579cbe4-3820-4288-be9d-89e9d572aa4e' title='Show/Hide data repr'><svg class='icon xr-icon-database'><use xlink:href='#icon-database'></use></svg></label><div class='xr-var-attrs'><dl class='xr-attrs'><dt><span>standard_name :</span></dt><dd>longitude</dd><dt><span>long_name :</span></dt><dd>Longitude</dd><dt><span>units :</span></dt><dd>degrees_east</dd><dt><span>axis :</span></dt><dd>X</dd></dl></div><pre class='xr-var-data'>array([200. , 202.5, 205. , 207.5, 210. , 212.5, 215. , 217.5, 220. , 222.5,\n",
       "       225. , 227.5, 230. , 232.5, 235. , 237.5, 240. , 242.5, 245. , 247.5,\n",
       "       250. , 252.5, 255. , 257.5, 260. , 262.5, 265. , 267.5, 270. , 272.5,\n",
       "       275. , 277.5, 280. , 282.5, 285. , 287.5, 290. , 292.5, 295. , 297.5,\n",
       "       300. , 302.5, 305. , 307.5, 310. , 312.5, 315. , 317.5, 320. , 322.5,\n",
       "       325. , 327.5, 330. ], dtype=float32)</pre></li><li class='xr-var-item'><div class='xr-var-name'><span class='xr-has-index'>time</span></div><div class='xr-var-dims'>(time)</div><div class='xr-var-dtype'>datetime64[ns]</div><div class='xr-var-preview xr-preview'>2013-01-01 ... 2014-12-31T18:00:00</div><input id='attrs-5aa1425b-570b-41be-88c5-0b26058392be' class='xr-var-attrs-in' type='checkbox' ><label for='attrs-5aa1425b-570b-41be-88c5-0b26058392be' title='Show/Hide attributes'><svg class='icon xr-icon-file-text2'><use xlink:href='#icon-file-text2'></use></svg></label><input id='data-ac2d3905-a031-4a89-9b3c-988ca1c5e183' class='xr-var-data-in' type='checkbox'><label for='data-ac2d3905-a031-4a89-9b3c-988ca1c5e183' title='Show/Hide data repr'><svg class='icon xr-icon-database'><use xlink:href='#icon-database'></use></svg></label><div class='xr-var-attrs'><dl class='xr-attrs'><dt><span>standard_name :</span></dt><dd>time</dd><dt><span>long_name :</span></dt><dd>Time</dd></dl></div><pre class='xr-var-data'>array([&#x27;2013-01-01T00:00:00.000000000&#x27;, &#x27;2013-01-01T06:00:00.000000000&#x27;,\n",
       "       &#x27;2013-01-01T12:00:00.000000000&#x27;, ..., &#x27;2014-12-31T06:00:00.000000000&#x27;,\n",
       "       &#x27;2014-12-31T12:00:00.000000000&#x27;, &#x27;2014-12-31T18:00:00.000000000&#x27;],\n",
       "      dtype=&#x27;datetime64[ns]&#x27;)</pre></li></ul></div></li><li class='xr-section-item'><input id='section-756ac470-7ea3-48ae-b3c0-56b36ecd78a7' class='xr-section-summary-in' type='checkbox'  checked><label for='section-756ac470-7ea3-48ae-b3c0-56b36ecd78a7' class='xr-section-summary' >Data variables: <span>(1)</span></label><div class='xr-section-inline-details'></div><div class='xr-section-details'><ul class='xr-var-list'><li class='xr-var-item'><div class='xr-var-name'><span>air</span></div><div class='xr-var-dims'>(time, lat, lon)</div><div class='xr-var-dtype'>float32</div><div class='xr-var-preview xr-preview'>...</div><input id='attrs-c5b44ff0-6c8d-470c-bb60-9f10c8f9f8d8' class='xr-var-attrs-in' type='checkbox' ><label for='attrs-c5b44ff0-6c8d-470c-bb60-9f10c8f9f8d8' title='Show/Hide attributes'><svg class='icon xr-icon-file-text2'><use xlink:href='#icon-file-text2'></use></svg></label><input id='data-816cef31-244a-449d-9bdc-a0a8c876ab18' class='xr-var-data-in' type='checkbox'><label for='data-816cef31-244a-449d-9bdc-a0a8c876ab18' title='Show/Hide data repr'><svg class='icon xr-icon-database'><use xlink:href='#icon-database'></use></svg></label><div class='xr-var-attrs'><dl class='xr-attrs'><dt><span>long_name :</span></dt><dd>4xDaily Air temperature at sigma level 995</dd><dt><span>units :</span></dt><dd>degK</dd><dt><span>precision :</span></dt><dd>2</dd><dt><span>GRIB_id :</span></dt><dd>11</dd><dt><span>GRIB_name :</span></dt><dd>TMP</dd><dt><span>var_desc :</span></dt><dd>Air temperature</dd><dt><span>dataset :</span></dt><dd>NMC Reanalysis</dd><dt><span>level_desc :</span></dt><dd>Surface</dd><dt><span>statistic :</span></dt><dd>Individual Obs</dd><dt><span>parent_stat :</span></dt><dd>Other</dd><dt><span>actual_range :</span></dt><dd>[185.16 322.1 ]</dd></dl></div><pre class='xr-var-data'>[3869000 values with dtype=float32]</pre></li></ul></div></li><li class='xr-section-item'><input id='section-d9a8a0c9-149e-4f4f-b610-25b194e0a6c2' class='xr-section-summary-in' type='checkbox'  checked><label for='section-d9a8a0c9-149e-4f4f-b610-25b194e0a6c2' class='xr-section-summary' >Attributes: <span>(5)</span></label><div class='xr-section-inline-details'></div><div class='xr-section-details'><dl class='xr-attrs'><dt><span>Conventions :</span></dt><dd>COARDS</dd><dt><span>title :</span></dt><dd>4x daily NMC reanalysis (1948)</dd><dt><span>description :</span></dt><dd>Data is from NMC initialized reanalysis\n",
       "(4x/day).  These are the 0.9950 sigma level values.</dd><dt><span>platform :</span></dt><dd>Model</dd><dt><span>references :</span></dt><dd>http://www.esrl.noaa.gov/psd/data/gridded/data.ncep.reanalysis.html</dd></dl></div></li></ul></div></div>"
      ],
      "text/plain": [
       "<xarray.Dataset>\n",
       "Dimensions:  (lat: 25, lon: 53, time: 2920)\n",
       "Coordinates:\n",
       "  * lat      (lat) float32 75.0 72.5 70.0 67.5 65.0 ... 25.0 22.5 20.0 17.5 15.0\n",
       "  * lon      (lon) float32 200.0 202.5 205.0 207.5 ... 322.5 325.0 327.5 330.0\n",
       "  * time     (time) datetime64[ns] 2013-01-01 ... 2014-12-31T18:00:00\n",
       "Data variables:\n",
       "    air      (time, lat, lon) float32 ...\n",
       "Attributes:\n",
       "    Conventions:  COARDS\n",
       "    title:        4x daily NMC reanalysis (1948)\n",
       "    description:  Data is from NMC initialized reanalysis\\n(4x/day).  These a...\n",
       "    platform:     Model\n",
       "    references:   http://www.esrl.noaa.gov/psd/data/gridded/data.ncep.reanaly..."
      ]
     },
     "execution_count": 10,
     "metadata": {},
     "output_type": "execute_result"
    }
   ],
   "source": [
    "dataset = service.open_dataset('esacci2.SST.day.L4.SSTdepth.multi-sensor.multi-platform.OSTIA.1-1.r1')\n",
    "dataset"
   ]
  },
  {
   "cell_type": "code",
   "execution_count": null,
   "metadata": {},
   "outputs": [],
   "source": []
  },
  {
   "cell_type": "code",
   "execution_count": null,
   "metadata": {},
   "outputs": [],
   "source": []
  }
 ],
 "metadata": {
  "kernelspec": {
   "display_name": "Python 3",
   "language": "python",
   "name": "python3"
  },
  "language_info": {
   "codemirror_mode": {
    "name": "ipython",
    "version": 3
   },
   "file_extension": ".py",
   "mimetype": "text/x-python",
   "name": "python",
   "nbconvert_exporter": "python",
   "pygments_lexer": "ipython3",
   "version": "3.7.6"
  }
 },
 "nbformat": 4,
 "nbformat_minor": 4
}
