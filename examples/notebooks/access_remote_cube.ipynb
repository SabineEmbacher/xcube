{
 "cells": [
  {
   "cell_type": "markdown",
   "metadata": {},
   "source": [
    "## Reading xcube datasets from object storage bucket "
   ]
  },
  {
   "cell_type": "markdown",
   "metadata": {},
   "source": [
    "This notebook shows, how xcube can be used for reading an xcube dataset stored in an object storage. This is done by using a url pointing to the zarr directory within a bucket.\n",
    "\n",
    "An overview of demo cubes is given in the notebook called ***show_remote_demo_cubes.ipynb***.\n",
    "\n",
    "---"
   ]
  },
  {
   "cell_type": "markdown",
   "metadata": {},
   "source": [
    "Importing the necessary xcube API function:"
   ]
  },
  {
   "cell_type": "code",
   "execution_count": 1,
   "metadata": {},
   "outputs": [],
   "source": [
    "from xcube.core.dsio import open_cube"
   ]
  },
  {
   "cell_type": "markdown",
   "metadata": {},
   "source": [
    "Importing an xcube dataset containing Sea Surface Temperature data for the Southern North Sea from the dcs4cop-obs-01 bucket:"
   ]
  },
  {
   "cell_type": "code",
   "execution_count": 2,
   "metadata": {},
   "outputs": [],
   "source": [
    "cube = open_cube('http://obs.eu-de.otc.t-systems.com/dcs4cop-obs-01/bc-sst-sns-l2c-2017_1x704x640.zarr')"
   ]
  },
  {
   "cell_type": "markdown",
   "metadata": {},
   "source": [
    "View the metadata of the cube:"
   ]
  },
  {
   "cell_type": "code",
   "execution_count": 3,
   "metadata": {},
   "outputs": [
    {
     "data": {
      "text/html": [
       "<pre>&lt;xarray.Dataset&gt;\n",
       "Dimensions:       (bnds: 2, lat: 5632, lon: 10240, time: 365)\n",
       "Coordinates:\n",
       "  * lat           (lat) float64 62.67 62.66 62.66 62.66 ... 48.01 48.0 48.0\n",
       "    lat_bnds      (lat, bnds) float64 dask.array&lt;chunksize=(5632, 2), meta=np.ndarray&gt;\n",
       "  * lon           (lon) float64 -16.0 -16.0 -15.99 -15.99 ... 10.66 10.66 10.67\n",
       "    lon_bnds      (lon, bnds) float64 dask.array&lt;chunksize=(10240, 2), meta=np.ndarray&gt;\n",
       "  * time          (time) datetime64[ns] 2017-01-01T12:00:00 ... 2017-12-31T12:00:00\n",
       "    time_bnds     (time, bnds) datetime64[ns] dask.array&lt;chunksize=(365, 2), meta=np.ndarray&gt;\n",
       "Dimensions without coordinates: bnds\n",
       "Data variables:\n",
       "    analysed_sst  (time, lat, lon) float64 dask.array&lt;chunksize=(1, 704, 640), meta=np.ndarray&gt;\n",
       "Attributes:\n",
       "    acknowledgment:             Data Cube produced based on data provided by ...\n",
       "    comment:                    \n",
       "    contributor_name:           \n",
       "    contributor_role:           \n",
       "    creator_email:              info@brockmann-consult.de\n",
       "    creator_name:               Brockmann Consult GmbH\n",
       "    creator_url:                https://www.brockmann-consult.de\n",
       "    date_modified:              2019-06-03T09:36:47.674193\n",
       "    geospatial_lat_max:         62.666666666666664\n",
       "    geospatial_lat_min:         48.0\n",
       "    geospatial_lat_resolution:  0.002604166666666666\n",
       "    geospatial_lat_units:       degrees_north\n",
       "    geospatial_lon_max:         10.666666666666664\n",
       "    geospatial_lon_min:         -16.0\n",
       "    geospatial_lon_resolution:  0.0026041666666666665\n",
       "    geospatial_lon_units:       degrees_east\n",
       "    history:                    xcube/reproj-snap-nc\n",
       "    id:                         dcs4cop-bc-sst-sns-l2c-v1\n",
       "    institution:                Brockmann Consult GmbH\n",
       "    keywords:                   \n",
       "    license:                    terms and conditions of the DCS4COP data dist...\n",
       "    naming_authority:           bc\n",
       "    processing_level:           L2C\n",
       "    project:                    DCS4COP\n",
       "    publisher_email:            info@brockmann-consult.de\n",
       "    publisher_name:             Brockmann Consult GmbH\n",
       "    publisher_url:              https://www.brockmann-consult.de\n",
       "    references:                 https://dcs4cop.eu/\n",
       "    source:                     CMEMS Global SST &amp; Sea Ice Anomaly Data Cube\n",
       "    standard_name_vocabulary:   \n",
       "    summary:                    \n",
       "    title:                      DCS4COP CMEMS Global SST &amp; Sea Ice Anomaly Da...</pre>"
      ],
      "text/plain": [
       "<xarray.Dataset>\n",
       "Dimensions:       (bnds: 2, lat: 5632, lon: 10240, time: 365)\n",
       "Coordinates:\n",
       "  * lat           (lat) float64 62.67 62.66 62.66 62.66 ... 48.01 48.0 48.0\n",
       "    lat_bnds      (lat, bnds) float64 dask.array<chunksize=(5632, 2), meta=np.ndarray>\n",
       "  * lon           (lon) float64 -16.0 -16.0 -15.99 -15.99 ... 10.66 10.66 10.67\n",
       "    lon_bnds      (lon, bnds) float64 dask.array<chunksize=(10240, 2), meta=np.ndarray>\n",
       "  * time          (time) datetime64[ns] 2017-01-01T12:00:00 ... 2017-12-31T12:00:00\n",
       "    time_bnds     (time, bnds) datetime64[ns] dask.array<chunksize=(365, 2), meta=np.ndarray>\n",
       "Dimensions without coordinates: bnds\n",
       "Data variables:\n",
       "    analysed_sst  (time, lat, lon) float64 dask.array<chunksize=(1, 704, 640), meta=np.ndarray>\n",
       "Attributes:\n",
       "    acknowledgment:             Data Cube produced based on data provided by ...\n",
       "    comment:                    \n",
       "    contributor_name:           \n",
       "    contributor_role:           \n",
       "    creator_email:              info@brockmann-consult.de\n",
       "    creator_name:               Brockmann Consult GmbH\n",
       "    creator_url:                https://www.brockmann-consult.de\n",
       "    date_modified:              2019-06-03T09:36:47.674193\n",
       "    geospatial_lat_max:         62.666666666666664\n",
       "    geospatial_lat_min:         48.0\n",
       "    geospatial_lat_resolution:  0.002604166666666666\n",
       "    geospatial_lat_units:       degrees_north\n",
       "    geospatial_lon_max:         10.666666666666664\n",
       "    geospatial_lon_min:         -16.0\n",
       "    geospatial_lon_resolution:  0.0026041666666666665\n",
       "    geospatial_lon_units:       degrees_east\n",
       "    history:                    xcube/reproj-snap-nc\n",
       "    id:                         dcs4cop-bc-sst-sns-l2c-v1\n",
       "    institution:                Brockmann Consult GmbH\n",
       "    keywords:                   \n",
       "    license:                    terms and conditions of the DCS4COP data dist...\n",
       "    naming_authority:           bc\n",
       "    processing_level:           L2C\n",
       "    project:                    DCS4COP\n",
       "    publisher_email:            info@brockmann-consult.de\n",
       "    publisher_name:             Brockmann Consult GmbH\n",
       "    publisher_url:              https://www.brockmann-consult.de\n",
       "    references:                 https://dcs4cop.eu/\n",
       "    source:                     CMEMS Global SST & Sea Ice Anomaly Data Cube\n",
       "    standard_name_vocabulary:   \n",
       "    summary:                    \n",
       "    title:                      DCS4COP CMEMS Global SST & Sea Ice Anomaly Da..."
      ]
     },
     "execution_count": 3,
     "metadata": {},
     "output_type": "execute_result"
    }
   ],
   "source": [
    "cube"
   ]
  },
  {
   "cell_type": "code",
   "execution_count": null,
   "metadata": {},
   "outputs": [],
   "source": []
  }
 ],
 "metadata": {
  "kernelspec": {
   "display_name": "Python 3",
   "language": "python",
   "name": "python3"
  },
  "language_info": {
   "codemirror_mode": {
    "name": "ipython",
    "version": 3
   },
   "file_extension": ".py",
   "mimetype": "text/x-python",
   "name": "python",
   "nbconvert_exporter": "python",
   "pygments_lexer": "ipython3",
   "version": "3.7.3"
  }
 },
 "nbformat": 4,
 "nbformat_minor": 2
}
