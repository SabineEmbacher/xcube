{
 "cells": [
  {
   "cell_type": "markdown",
   "metadata": {},
   "source": [
    "## Reading data cubes from bucket in cloud"
   ]
  },
  {
   "cell_type": "markdown",
   "metadata": {},
   "source": [
    "This notebook shows, how xcube can be used for reading a data cube stored in the cloud. This is done by using a url pointing to the zarr directory within a bucket.\n",
    "\n",
    "An overview of demo cubes is given in the notebook called ***sample_remote_cubes.ipynb***.\n",
    "\n",
    "---"
   ]
  },
  {
   "cell_type": "markdown",
   "metadata": {},
   "source": [
    "Importing the necessary library"
   ]
  },
  {
   "cell_type": "code",
   "execution_count": 1,
   "metadata": {},
   "outputs": [],
   "source": [
    "from xcube.api import read_cube"
   ]
  },
  {
   "cell_type": "markdown",
   "metadata": {},
   "source": [
    "Importing the MSI_L2_VITO_Chla_SPM_31UET_v041-optimized.zarr cube from the dcs4cop-obs-01 bucket. "
   ]
  },
  {
   "cell_type": "code",
   "execution_count": 2,
   "metadata": {},
   "outputs": [],
   "source": [
    "cube = read_cube('http://obs.eu-de.otc.t-systems.com/dcs4cop-obs-01/MSI_L2_VITO_Chla_SPM_31UET_v041-optimized.zarr')"
   ]
  },
  {
   "cell_type": "markdown",
   "metadata": {},
   "source": [
    "View the metadata of the cube:"
   ]
  },
  {
   "cell_type": "code",
   "execution_count": 3,
   "metadata": {},
   "outputs": [
    {
     "data": {
      "text/plain": [
       "<xarray.Dataset>\n",
       "Dimensions:   (bnds: 2, lat: 512, lon: 512, time: 107)\n",
       "Coordinates:\n",
       "  * lat       (lat) float64 54.5 54.49 54.48 54.47 ... 50.53 50.52 50.51 50.5\n",
       "    lat_bnds  (lat, bnds) float64 dask.array<shape=(512, 2), chunksize=(512, 2)>\n",
       "  * lon       (lon) float64 0.5039 0.5117 0.5195 0.5273 ... 4.48 4.488 4.496\n",
       "    lon_bnds  (lon, bnds) float64 dask.array<shape=(512, 2), chunksize=(512, 2)>\n",
       "  * time      (time) datetime64[ns] 2017-01-16T10:53:55.460999936 ... 2017-12-30T11:04:39.456000\n",
       "Dimensions without coordinates: bnds\n",
       "Data variables:\n",
       "    Chla      (time, lat, lon) float32 dask.array<shape=(107, 512, 512), chunksize=(1, 256, 256)>\n",
       "    SPM_665   (time, lat, lon) float32 dask.array<shape=(107, 512, 512), chunksize=(1, 256, 256)>"
      ]
     },
     "execution_count": 3,
     "metadata": {},
     "output_type": "execute_result"
    }
   ],
   "source": [
    "cube"
   ]
  }
 ],
 "metadata": {
  "kernelspec": {
   "display_name": "Python 3",
   "language": "python",
   "name": "python3"
  },
  "language_info": {
   "codemirror_mode": {
    "name": "ipython",
    "version": 3
   },
   "file_extension": ".py",
   "mimetype": "text/x-python",
   "name": "python",
   "nbconvert_exporter": "python",
   "pygments_lexer": "ipython3",
   "version": "3.7.3"
  }
 },
 "nbformat": 4,
 "nbformat_minor": 2
}
