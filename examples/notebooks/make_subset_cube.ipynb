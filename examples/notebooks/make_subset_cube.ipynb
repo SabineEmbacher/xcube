{
 "cells": [
  {
   "cell_type": "markdown",
   "metadata": {},
   "source": [
    "## Make a subset of a data cube"
   ]
  },
  {
   "cell_type": "markdown",
   "metadata": {},
   "source": [
    "This notebook shows how to view the metadata of an xcube dataset and how to make a subset xcube dataset for a particular region of interest. \n",
    "\n",
    "---"
   ]
  },
  {
   "cell_type": "markdown",
   "metadata": {},
   "source": [
    "Importing necessary libraries and functions:"
   ]
  },
  {
   "cell_type": "code",
   "execution_count": 1,
   "metadata": {},
   "outputs": [],
   "source": [
    "import shapely\n",
    "import xarray as xr\n",
    "from xcube.api import clip_dataset_by_geometry, read_cube"
   ]
  },
  {
   "cell_type": "markdown",
   "metadata": {},
   "source": [
    "Load an xcube dataset containing Sea Surface Temperature data for the Southern North Sea from bucket:"
   ]
  },
  {
   "cell_type": "code",
   "execution_count": 2,
   "metadata": {},
   "outputs": [],
   "source": [
    "cube = read_cube('http://obs.eu-de.otc.t-systems.com/dcs4cop-obs-01/dcs4cop-bc-sst-sns-l2c-v1-2017-optimized.zarr')"
   ]
  },
  {
   "cell_type": "markdown",
   "metadata": {},
   "source": [
    "View the metadata of the cube:"
   ]
  },
  {
   "cell_type": "code",
   "execution_count": 3,
   "metadata": {},
   "outputs": [
    {
     "data": {
      "text/plain": [
       "<xarray.Dataset>\n",
       "Dimensions:       (bnds: 2, lat: 5632, lon: 10240, time: 365)\n",
       "Coordinates:\n",
       "  * lat           (lat) float64 62.67 62.66 62.66 62.66 ... 48.01 48.0 48.0\n",
       "    lat_bnds      (lat, bnds) float64 dask.array<shape=(5632, 2), chunksize=(5632, 2)>\n",
       "  * lon           (lon) float64 -16.0 -16.0 -15.99 -15.99 ... 10.66 10.66 10.67\n",
       "    lon_bnds      (lon, bnds) float64 dask.array<shape=(10240, 2), chunksize=(10240, 2)>\n",
       "  * time          (time) datetime64[ns] 2017-01-01T12:00:00 ... 2017-12-31T12:00:00\n",
       "    time_bnds     (time, bnds) datetime64[ns] dask.array<shape=(365, 2), chunksize=(365, 2)>\n",
       "Dimensions without coordinates: bnds\n",
       "Data variables:\n",
       "    analysed_sst  (time, lat, lon) float64 dask.array<shape=(365, 5632, 10240), chunksize=(1, 704, 640)>\n",
       "Attributes:\n",
       "    acknowledgment:             Data Cube produced based on data provided by ...\n",
       "    comment:                    \n",
       "    contributor_name:           \n",
       "    contributor_role:           \n",
       "    creator_email:              info@brockmann-consult.de\n",
       "    creator_name:               Brockmann Consult GmbH\n",
       "    creator_url:                https://www.brockmann-consult.de\n",
       "    date_modified:              2019-06-03T09:36:47.674193\n",
       "    geospatial_lat_max:         62.666666666666664\n",
       "    geospatial_lat_min:         48.0\n",
       "    geospatial_lat_resolution:  0.002604166666666666\n",
       "    geospatial_lat_units:       degrees_north\n",
       "    geospatial_lon_max:         10.666666666666664\n",
       "    geospatial_lon_min:         -16.0\n",
       "    geospatial_lon_resolution:  0.0026041666666666665\n",
       "    geospatial_lon_units:       degrees_east\n",
       "    history:                    xcube/reproj-snap-nc\n",
       "    id:                         dcs4cop-bc-sst-sns-l2c-v1\n",
       "    institution:                Brockmann Consult GmbH\n",
       "    keywords:                   \n",
       "    license:                    terms and conditions of the DCS4COP data dist...\n",
       "    naming_authority:           bc\n",
       "    processing_level:           L2C\n",
       "    project:                    DCS4COP\n",
       "    publisher_email:            info@brockmann-consult.de\n",
       "    publisher_name:             Brockmann Consult GmbH\n",
       "    publisher_url:              https://www.brockmann-consult.de\n",
       "    references:                 https://dcs4cop.eu/\n",
       "    source:                     CMEMS Global SST & Sea Ice Anomaly Data Cube\n",
       "    standard_name_vocabulary:   \n",
       "    summary:                    \n",
       "    title:                      DCS4COP CMEMS Global SST & Sea Ice Anomaly Da..."
      ]
     },
     "execution_count": 3,
     "metadata": {},
     "output_type": "execute_result"
    }
   ],
   "source": [
    "cube"
   ]
  },
  {
   "cell_type": "markdown",
   "metadata": {},
   "source": [
    "Print out the time stamps avaialbe in the cube:"
   ]
  },
  {
   "cell_type": "code",
   "execution_count": 4,
   "metadata": {},
   "outputs": [],
   "source": [
    "# cube.time.values"
   ]
  },
  {
   "cell_type": "markdown",
   "metadata": {},
   "source": [
    "Print out the number of time stamps:"
   ]
  },
  {
   "cell_type": "code",
   "execution_count": 5,
   "metadata": {},
   "outputs": [
    {
     "data": {
      "text/plain": [
       "(365,)"
      ]
     },
     "execution_count": 5,
     "metadata": {},
     "output_type": "execute_result"
    }
   ],
   "source": [
    "cube.time.shape"
   ]
  },
  {
   "cell_type": "markdown",
   "metadata": {},
   "source": [
    "View the metadata of a cubes variable:"
   ]
  },
  {
   "cell_type": "code",
   "execution_count": 6,
   "metadata": {},
   "outputs": [
    {
     "data": {
      "text/plain": [
       "<xarray.DataArray 'analysed_sst' (time: 365, lat: 5632, lon: 10240)>\n",
       "dask.array<shape=(365, 5632, 10240), dtype=float64, chunksize=(1, 704, 640)>\n",
       "Coordinates:\n",
       "  * lat      (lat) float64 62.67 62.66 62.66 62.66 ... 48.01 48.01 48.0 48.0\n",
       "  * lon      (lon) float64 -16.0 -16.0 -15.99 -15.99 ... 10.66 10.66 10.66 10.67\n",
       "  * time     (time) datetime64[ns] 2017-01-01T12:00:00 ... 2017-12-31T12:00:00\n",
       "Attributes:\n",
       "    comment:              \n",
       "    long_name:           analysed sea surface temperature\n",
       "    source:              UKMO-L4HRfnd-GLOB-OSTIA\n",
       "    spatial_resampling:  Nearest\n",
       "    standard_name:       sea_surface_foundation_temperature\n",
       "    type:                foundation\n",
       "    units:               kelvin\n",
       "    valid_max:           4500\n",
       "    valid_min:           -300"
      ]
     },
     "execution_count": 6,
     "metadata": {},
     "output_type": "execute_result"
    }
   ],
   "source": [
    "cube.analysed_sst"
   ]
  },
  {
   "cell_type": "markdown",
   "metadata": {},
   "source": [
    "View the shape and the chunking of a data cubes variable:"
   ]
  },
  {
   "cell_type": "code",
   "execution_count": 7,
   "metadata": {},
   "outputs": [
    {
     "data": {
      "text/plain": [
       "dask.array<zarr, shape=(365, 5632, 10240), dtype=float64, chunksize=(1, 704, 640)>"
      ]
     },
     "execution_count": 7,
     "metadata": {},
     "output_type": "execute_result"
    }
   ],
   "source": [
    "cube.analysed_sst.data"
   ]
  },
  {
   "cell_type": "markdown",
   "metadata": {},
   "source": [
    "Plot a cubes variable for a specific time stamp:"
   ]
  },
  {
   "cell_type": "code",
   "execution_count": 14,
   "metadata": {},
   "outputs": [
    {
     "data": {
      "text/plain": [
       "<matplotlib.image.AxesImage at 0x7fbf541bb9e8>"
      ]
     },
     "execution_count": 14,
     "metadata": {},
     "output_type": "execute_result"
    },
    {
     "data": {
      "image/png": "[encoded data removed]",
      "text/plain": [
       "<Figure size 1152x720 with 2 Axes>"
      ]
     },
     "metadata": {
      "needs_background": "light"
     },
     "output_type": "display_data"
    }
   ],
   "source": [
    "cube.analysed_sst.isel(time=47).plot.imshow(figsize=(16,10), cmap='plasma')"
   ]
  },
  {
   "cell_type": "markdown",
   "metadata": {},
   "source": [
    "Define an area to make a subset of a cube:"
   ]
  },
  {
   "cell_type": "code",
   "execution_count": 9,
   "metadata": {},
   "outputs": [],
   "source": [
    "x1 = 0.0  # degree\n",
    "y1 = 50.0  # degree\n",
    "x2 = 5.0  # degree\n",
    "y2 = 52.0  # degree\n",
    "\n",
    "bbox = x1, y1, x2, y2"
   ]
  },
  {
   "cell_type": "markdown",
   "metadata": {},
   "source": [
    "Convert bounding box into a shapely object:"
   ]
  },
  {
   "cell_type": "code",
   "execution_count": 10,
   "metadata": {},
   "outputs": [],
   "source": [
    "bbox = shapely.geometry.box(*bbox)"
   ]
  },
  {
   "cell_type": "markdown",
   "metadata": {},
   "source": [
    "Clip cube by using the bounding box:"
   ]
  },
  {
   "cell_type": "code",
   "execution_count": 11,
   "metadata": {},
   "outputs": [],
   "source": [
    "subset_cube = clip_dataset_by_geometry(cube, bbox)"
   ]
  },
  {
   "cell_type": "code",
   "execution_count": 12,
   "metadata": {},
   "outputs": [
    {
     "data": {
      "text/plain": [
       "<matplotlib.image.AxesImage at 0x7fbf542be630>"
      ]
     },
     "execution_count": 12,
     "metadata": {},
     "output_type": "execute_result"
    },
    {
     "data": {
      "image/png": "[encoded data removed]",
      "text/plain": [
       "<Figure size 1152x720 with 2 Axes>"
      ]
     },
     "metadata": {
      "needs_background": "light"
     },
     "output_type": "display_data"
    }
   ],
   "source": [
    "subset_cube.analysed_sst.isel(time=47).plot.imshow(figsize=(16,10), cmap='plasma')"
   ]
  },
  {
   "cell_type": "markdown",
   "metadata": {},
   "source": [
    "The subset cube can be saved locally with:"
   ]
  },
  {
   "cell_type": "code",
   "execution_count": 13,
   "metadata": {},
   "outputs": [],
   "source": [
    "# subset_cube.to_zarr('subset_cube_output_path.zarr')"
   ]
  }
 ],
 "metadata": {
  "kernelspec": {
   "display_name": "Python 3",
   "language": "python",
   "name": "python3"
  },
  "language_info": {
   "codemirror_mode": {
    "name": "ipython",
    "version": 3
   },
   "file_extension": ".py",
   "mimetype": "text/x-python",
   "name": "python",
   "nbconvert_exporter": "python",
   "pygments_lexer": "ipython3",
   "version": "3.7.3"
  }
 },
 "nbformat": 4,
 "nbformat_minor": 2
}
